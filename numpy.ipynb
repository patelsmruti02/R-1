{
 "cells": [
  {
   "cell_type": "code",
   "execution_count": 11,
   "id": "bf6629bf",
   "metadata": {},
   "outputs": [
    {
     "name": "stdout",
     "output_type": "stream",
     "text": [
      "[ 5  3  6  5  7  3 10  3  8  6  1  8 11  9  9  9  1  8  3  1  8  2 11  2\n",
      " 11 10  6  2  6 10 11  7  5 10  9  8 11  6  2 11  9  1  6  4 10  1  5  9\n",
      "  7  3  5  4 11  3  1  1  5 11 11  3  6  1  1  4  9  6  4  2  5  8  4  3\n",
      "  3 11  3  7  7 11  1 11]\n",
      "MEAN : 6.0125\n"
     ]
    }
   ],
   "source": [
    "from numpy.random import randint\n",
    "import numpy\n",
    "\n",
    "samn = randint(1,12,80)\n",
    "print(samn)\n",
    "print(\"MEAN :\" ,mean(samn))"
   ]
  },
  {
   "cell_type": "code",
   "execution_count": 7,
   "id": "644e9200",
   "metadata": {},
   "outputs": [
    {
     "name": "stdout",
     "output_type": "stream",
     "text": [
      "[11  8  6  2  9  8  9  3 10 11  8  8  8 10  9  5  3  7 11  5  4  1  8  6\n",
      "  6 10  7  7  9  3  6  9  2  3 11  8  1  9  4 11  2  1  4  3  4  3 10  3\n",
      "  2  1  2 10 10  1  8  3  7  4  8  9  3  7  8 11  8 10  3  8  6  4  1  6\n",
      "  5  4  9 10  6  9 11  7]\n",
      "MEAN : 6.3375\n"
     ]
    }
   ],
   "source": [
    "from numpy.random import randint\n",
    "from numpy.random import seed\n",
    "from numpy import mean\n",
    "\n",
    "seed(4)\n",
    "samn = randint(1,12,80)\n",
    "print(samn)\n",
    "print(\"MEAN :\" ,mean(samn))"
   ]
  },
  {
   "cell_type": "code",
   "execution_count": 5,
   "id": "24cdb7b3",
   "metadata": {},
   "outputs": [
    {
     "name": "stdout",
     "output_type": "stream",
     "text": [
      "[4.925, 5.4125, 5.9875, 4.975, 5.4625, 5.2875, 5.1, 5.325, 5.6625, 5.7, 5.5625, 5.375, 5.125, 5.5625, 5.5875, 5.675, 5.9125, 5.5875, 5.45, 5.25, 4.6375, 5.3125, 5.2875, 5.2875, 5.475, 5.975, 5.675, 5.5125, 5.3125, 5.4, 5.525, 6.1, 5.175, 5.9, 5.2875, 6.0125, 5.7375, 4.975, 5.7625, 5.4375, 5.4, 5.9375, 5.95, 5.5875, 5.025, 6.0, 5.6125, 5.1125, 5.6375, 5.15, 5.4875, 5.65, 5.8625, 5.65, 5.725, 5.275, 5.3875, 5.1875, 5.4375, 5.45, 5.725, 5.9125, 5.375, 5.025, 6.05, 5.8875, 5.925, 5.2625, 5.275, 5.4, 5.6875, 5.0, 5.4875, 5.6875, 5.3125, 5.1125, 4.9875, 5.225, 5.85, 5.8875, 5.6875, 5.4625, 5.7125, 5.5125, 5.4125, 5.5, 5.625, 5.2625, 5.5375, 5.225, 5.2875, 5.0875, 5.3125, 5.425, 4.9, 5.3625, 5.9875, 5.2625, 5.9, 5.975]\n"
     ]
    },
    {
     "data": {
      "image/png": "[encoded data removed]",
      "text/plain": [
       "<Figure size 432x288 with 1 Axes>"
      ]
     },
     "metadata": {
      "needs_background": "light"
     },
     "output_type": "display_data"
    }
   ],
   "source": [
    "from numpy.random import randint \n",
    "from numpy.random import seed\n",
    "from numpy import mean\n",
    "from matplotlib import pyplot\n",
    "\n",
    "seed(3)\n",
    "samn = [mean(randint(1,11,80))for i in range(100)]\n",
    "print(samn)\n",
    "\n",
    "pyplot.hist(samn)\n",
    "pyplot.show()\n"
   ]
  },
  {
   "cell_type": "code",
   "execution_count": 8,
   "id": "4351a556",
   "metadata": {},
   "outputs": [
    {
     "name": "stdout",
     "output_type": "stream",
     "text": [
      "[4.925, 5.4125, 5.9875, 4.975, 5.4625, 5.2875, 5.1, 5.325, 5.6625, 5.7, 5.5625, 5.375, 5.125, 5.5625, 5.5875, 5.675, 5.9125, 5.5875, 5.45, 5.25, 4.6375, 5.3125, 5.2875, 5.2875, 5.475, 5.975, 5.675, 5.5125, 5.3125, 5.4, 5.525, 6.1, 5.175, 5.9, 5.2875, 6.0125, 5.7375, 4.975, 5.7625, 5.4375, 5.4, 5.9375, 5.95, 5.5875, 5.025, 6.0, 5.6125, 5.1125, 5.6375, 5.15, 5.4875, 5.65, 5.8625, 5.65, 5.725, 5.275, 5.3875, 5.1875, 5.4375, 5.45, 5.725, 5.9125, 5.375, 5.025, 6.05, 5.8875, 5.925, 5.2625, 5.275, 5.4, 5.6875, 5.0, 5.4875, 5.6875, 5.3125, 5.1125, 4.9875, 5.225, 5.85, 5.8875, 5.6875, 5.4625, 5.7125, 5.5125, 5.4125, 5.5, 5.625, 5.2625, 5.5375, 5.225, 5.2875, 5.0875, 5.3125, 5.425, 4.9, 5.3625, 5.9875, 5.2625, 5.9, 5.975]\n"
     ]
    }
   ],
   "source": [
    "from numpy.random import randint \n",
    "from numpy.random import seed\n",
    "from numpy import mean\n",
    "from matplotlib import pyplot\n",
    "\n",
    "seed(3)\n",
    "samn = [mean(randint(1,11,80)) for i in range(100)]\n",
    "print(samn)\n",
    "\n",
    "pyplot.hist(samn)\n",
    "pyplot.show()"
   ]
  },
  {
   "cell_type": "code",
   "execution_count": 15,
   "id": "7d31d885",
   "metadata": {},
   "outputs": [
    {
     "data": {
      "image/png": "[encoded data removed]",
      "text/plain": [
       "<Figure size 432x288 with 1 Axes>"
      ]
     },
     "metadata": {
      "needs_background": "light"
     },
     "output_type": "display_data"
    }
   ],
   "source": [
    "from numpy.random import randint \n",
    "from numpy.random import seed\n",
    "from numpy import mean\n",
    "from matplotlib import pyplot\n",
    "\n",
    "seed(3)\n",
    "samn = [mean(randint(1,11,80))]# for i in range(100)\n",
    "#print(samn)\n",
    "\n",
    "pyplot.hist(samn)\n",
    "pyplot.show()"
   ]
  },
  {
   "cell_type": "code",
   "execution_count": 5,
   "id": "c04bdb26",
   "metadata": {},
   "outputs": [
    {
     "name": "stdout",
     "output_type": "stream",
     "text": [
      "[11  8  6  2  9  8  9  3 10 11  8  8  8 10  9  5  3  7 11  5  4  1  8  6\n",
      "  6 10  7  7  9  3  6  9  2  3 11  8  1  9  4 11  2  1  4  3  4  3 10  3\n",
      "  2  1  2 10 10 12  1  8  3  7  4 12]\n",
      "MEAN :  6.3\n"
     ]
    }
   ],
   "source": [
    "from numpy.random import randint\n",
    "from numpy.random import seed\n",
    "from numpy import mean\n",
    "\n",
    "seed(4)\n",
    "been = randint(1,13,60)\n",
    "print(been)\n",
    "print(\"MEAN : \" , mean(been))"
   ]
  },
  {
   "cell_type": "code",
   "execution_count": 3,
   "id": "f58626c5",
   "metadata": {},
   "outputs": [
    {
     "name": "stdout",
     "output_type": "stream",
     "text": [
      "[5.316666666666666, 4.5, 6.166666666666667, 5.783333333333333, 4.95, 5.5, 5.116666666666666, 5.4, 5.2, 5.25, 5.0, 6.0, 5.4, 5.983333333333333, 5.05, 5.75, 5.2, 5.05, 6.0, 5.45, 5.75, 6.033333333333333, 5.116666666666666, 6.0, 5.333333333333333, 5.6, 4.633333333333334, 4.883333333333334, 5.316666666666666, 5.333333333333333]\n"
     ]
    },
    {
     "data": {
      "image/png": "[encoded data removed]",
      "text/plain": [
       "<Figure size 432x288 with 1 Axes>"
      ]
     },
     "metadata": {
      "needs_background": "light"
     },
     "output_type": "display_data"
    }
   ],
   "source": [
    "from numpy.random import randint\n",
    "from numpy.random import seed\n",
    "from numpy import mean\n",
    "from matplotlib import pyplot\n",
    "\n",
    "seed(3)\n",
    "been = [mean(randint(1,11,60)) for i in range(30)]\n",
    "print(been)\n",
    " \n",
    "pyplot.hist(been)\n",
    "pyplot.show()"
   ]
  },
  {
   "cell_type": "code",
   "execution_count": 6,
   "id": "cb6a16b1",
   "metadata": {},
   "outputs": [
    {
     "name": "stdout",
     "output_type": "stream",
     "text": [
      "[22.492537313432837, 23.17910447761194, 23.52238805970149, 20.119402985074625, 23.059701492537314, 23.91044776119403, 20.65671641791045, 22.83582089552239, 21.492537313432837, 18.880597014925375, 21.16417910447761, 20.597014925373134, 20.01492537313433, 21.08955223880597, 22.16417910447761, 22.82089552238806, 19.80597014925373, 23.492537313432837, 22.895522388059703, 23.01492537313433, 20.104477611940297, 21.611940298507463, 20.0, 18.52238805970149, 22.55223880597015, 23.83582089552239, 19.611940298507463, 21.044776119402986, 20.492537313432837, 21.791044776119403, 18.0, 20.64179104477612, 22.104477611940297, 19.55223880597015, 20.35820895522388, 19.46268656716418, 18.34328358208955, 21.53731343283582, 20.313432835820894, 19.80597014925373, 22.492537313432837, 20.567164179104477, 21.925373134328357, 20.82089552238806, 22.313432835820894, 20.940298507462686, 21.417910447761194, 19.149253731343283, 22.29850746268657, 18.746268656716417, 23.223880597014926, 22.08955223880597, 20.328358208955223, 21.83582089552239, 20.611940298507463, 19.895522388059703, 21.238805970149254, 22.582089552238806, 19.582089552238806, 20.044776119402986, 21.074626865671643, 19.746268656716417, 18.208955223880597, 20.388059701492537, 22.044776119402986, 21.46268656716418, 20.328358208955223, 23.328358208955223, 21.313432835820894, 21.761194029850746, 21.26865671641791, 19.074626865671643, 21.208955223880597, 19.686567164179106, 17.074626865671643, 20.850746268656717, 20.970149253731343, 21.08955223880597, 21.26865671641791, 18.686567164179106]\n"
     ]
    },
    {
     "data": {
      "image/png": "[encoded data removed]",
      "text/plain": [
       "<Figure size 432x288 with 1 Axes>"
      ]
     },
     "metadata": {
      "needs_background": "light"
     },
     "output_type": "display_data"
    }
   ],
   "source": [
    "from numpy.random import randint\n",
    "from numpy.random import seed\n",
    "from numpy import mean\n",
    "from matplotlib import pyplot\n",
    "\n",
    "seed(3)\n",
    "pan = [mean(randint(4,39,67)) for i in range (80)]\n",
    "print(pan)\n",
    "\n",
    "pyplot.hist(pan)\n",
    "pyplot.show()"
   ]
  },
  {
   "cell_type": "code",
   "execution_count": 4,
   "id": "b8745b74",
   "metadata": {},
   "outputs": [],
   "source": [
    "import numpy as np \n",
    "import pandas as pd\n",
    "import matplotlib as plt\n",
    "import scipy.stats as stats"
   ]
  },
  {
   "cell_type": "code",
   "execution_count": 5,
   "id": "6affb541",
   "metadata": {},
   "outputs": [
    {
     "name": "stdout",
     "output_type": "stream",
     "text": [
      "0    45.89\n",
      "1    12.88\n",
      "2    34.11\n",
      "3    34.89\n",
      "dtype: float64\n"
     ]
    }
   ],
   "source": [
    "sat = pd.Series([45.89,12.88,34.11,34.89])\n",
    "print(sat)"
   ]
  },
  {
   "cell_type": "code",
   "execution_count": 6,
   "id": "bc6b3cb3",
   "metadata": {},
   "outputs": [
    {
     "data": {
      "text/plain": [
       "count     4.000000\n",
       "mean     31.942500\n",
       "std      13.799728\n",
       "min      12.880000\n",
       "25%      28.802500\n",
       "50%      34.500000\n",
       "75%      37.640000\n",
       "max      45.890000\n",
       "dtype: float64"
      ]
     },
     "execution_count": 6,
     "metadata": {},
     "output_type": "execute_result"
    }
   ],
   "source": [
    "sat.describe()"
   ]
  },
  {
   "cell_type": "code",
   "execution_count": 10,
   "id": "0413e10a",
   "metadata": {},
   "outputs": [
    {
     "data": {
      "text/plain": [
       "Ttest_1sampResult(statistic=-6.8200619822606985, pvalue=0.006448724626230332)"
      ]
     },
     "execution_count": 10,
     "metadata": {},
     "output_type": "execute_result"
    }
   ],
   "source": [
    "stats.ttest_1samp(sat,79)"
   ]
  },
  {
   "cell_type": "code",
   "execution_count": 3,
   "id": "00720532",
   "metadata": {},
   "outputs": [],
   "source": [
    "import numpy"
   ]
  },
  {
   "cell_type": "code",
   "execution_count": 17,
   "id": "52dfeea3",
   "metadata": {},
   "outputs": [
    {
     "name": "stdout",
     "output_type": "stream",
     "text": [
      "[3 6 2 9]\n"
     ]
    }
   ],
   "source": [
    "import numpy as np\n",
    "\n",
    "tp = np.array([3,6,2,9])\n",
    "print(tp)"
   ]
  },
  {
   "cell_type": "code",
   "execution_count": 18,
   "id": "b1cb5669",
   "metadata": {},
   "outputs": [
    {
     "name": "stdout",
     "output_type": "stream",
     "text": [
      "1.21.5\n"
     ]
    }
   ],
   "source": [
    "print(np.__version__)"
   ]
  },
  {
   "cell_type": "code",
   "execution_count": 19,
   "id": "7ac5c370",
   "metadata": {},
   "outputs": [
    {
     "name": "stdout",
     "output_type": "stream",
     "text": [
      "<class 'numpy.ndarray'>\n"
     ]
    }
   ],
   "source": [
    "print(type(tp))"
   ]
  },
  {
   "cell_type": "code",
   "execution_count": 20,
   "id": "b95b898c",
   "metadata": {},
   "outputs": [
    {
     "name": "stdout",
     "output_type": "stream",
     "text": [
      "0\n",
      "1\n",
      "2\n",
      "3\n"
     ]
    }
   ],
   "source": [
    "a = np.array(42)\n",
    "b = np.array([1,2,3,4,5])\n",
    "c = np.array([[1,2,3],[4,5,6]])\n",
    "d = np.array([[[1,2,3],[4,5,6]],[[1,2,3],[4,5,6]]])\n",
    "\n",
    "print(a.ndim)\n",
    "print(b.ndim)\n",
    "print(c.ndim)\n",
    "print(d.ndim)"
   ]
  },
  {
   "cell_type": "code",
   "execution_count": 24,
   "id": "af16201f",
   "metadata": {},
   "outputs": [
    {
     "name": "stdout",
     "output_type": "stream",
     "text": [
      "the number of dimensions is : [[[[[[[[1 2 3]]]]]]]]\n"
     ]
    }
   ],
   "source": [
    "th = np.array([1,2,3],ndmin = 8)\n",
    "print('the number of dimensions is :',th)"
   ]
  },
  {
   "cell_type": "code",
   "execution_count": 1,
   "id": "8f1773fc",
   "metadata": {},
   "outputs": [
    {
     "name": "stdout",
     "output_type": "stream",
     "text": [
      "1\n"
     ]
    }
   ],
   "source": [
    "import numpy as np\n",
    "\n",
    "w = np.array([1,2,3,4])\n",
    "print(w[0])"
   ]
  },
  {
   "cell_type": "code",
   "execution_count": 3,
   "id": "2d8a53c1",
   "metadata": {},
   "outputs": [
    {
     "name": "stdout",
     "output_type": "stream",
     "text": [
      "7\n"
     ]
    }
   ],
   "source": [
    "print(w[2]+w[3])"
   ]
  },
  {
   "cell_type": "code",
   "execution_count": 8,
   "id": "63dfc2b6",
   "metadata": {},
   "outputs": [
    {
     "name": "stdout",
     "output_type": "stream",
     "text": [
      "2nd element on the first row : 2\n"
     ]
    }
   ],
   "source": [
    "td = np.array([[1,2,3,4],[5,6,7,8]])\n",
    "print(\"2nd element on the 1st row :\",td[0,1])"
   ]
  },
  {
   "cell_type": "code",
   "execution_count": 9,
   "id": "4811661a",
   "metadata": {},
   "outputs": [
    {
     "name": "stdout",
     "output_type": "stream",
     "text": [
      "4th element on the 2nd row : 8\n"
     ]
    }
   ],
   "source": [
    "td = np.array([[1,2,3,4],[5,6,7,8]])\n",
    "print(\"4th element on the 2nd row :\",td[1,3])"
   ]
  },
  {
   "cell_type": "code",
   "execution_count": 10,
   "id": "e87899f5",
   "metadata": {},
   "outputs": [
    {
     "name": "stdout",
     "output_type": "stream",
     "text": [
      "6\n"
     ]
    }
   ],
   "source": [
    "thd = np.array([[[1,2,3],[4,5,6]],[[7,8,9],[10,11,12]]])\n",
    "print(thd[0,1,2])"
   ]
  },
  {
   "cell_type": "code",
   "execution_count": 11,
   "id": "e7c78496",
   "metadata": {},
   "outputs": [
    {
     "name": "stdout",
     "output_type": "stream",
     "text": [
      "last element from the 2nd dim : 8\n"
     ]
    }
   ],
   "source": [
    "td = np.array([[1,2,3,4],[5,6,7,8]])\n",
    "print(\"last element from the 2nd dim :\",td[1,-1])"
   ]
  },
  {
   "cell_type": "markdown",
   "id": "5c062e0a",
   "metadata": {},
   "source": [
    "## 29NOV"
   ]
  },
  {
   "cell_type": "code",
   "execution_count": 4,
   "id": "decf529c",
   "metadata": {},
   "outputs": [],
   "source": [
    "import numpy as np"
   ]
  },
  {
   "cell_type": "code",
   "execution_count": 2,
   "id": "bddd82f0",
   "metadata": {},
   "outputs": [
    {
     "name": "stdout",
     "output_type": "stream",
     "text": [
      "[2 6 9]\n"
     ]
    }
   ],
   "source": [
    "tar = np.array([2,6,9])\n",
    "print(tar)"
   ]
  },
  {
   "cell_type": "code",
   "execution_count": 3,
   "id": "c12cfac7",
   "metadata": {},
   "outputs": [
    {
     "name": "stdout",
     "output_type": "stream",
     "text": [
      "(3,)\n"
     ]
    }
   ],
   "source": [
    "print(tar.shape)"
   ]
  },
  {
   "cell_type": "code",
   "execution_count": 4,
   "id": "18ba82b5",
   "metadata": {},
   "outputs": [
    {
     "data": {
      "text/plain": [
       "1"
      ]
     },
     "execution_count": 4,
     "metadata": {},
     "output_type": "execute_result"
    }
   ],
   "source": [
    "tar.ndim"
   ]
  },
  {
   "cell_type": "code",
   "execution_count": 5,
   "id": "f1ecb4a9",
   "metadata": {
    "scrolled": true
   },
   "outputs": [
    {
     "name": "stdout",
     "output_type": "stream",
     "text": [
      "[[2 6 9]]\n"
     ]
    }
   ],
   "source": [
    "tar_t = np.array([2,6,9], ndmin = 2)\n",
    "print(tar_t)"
   ]
  },
  {
   "cell_type": "code",
   "execution_count": 6,
   "id": "cb244bb4",
   "metadata": {},
   "outputs": [
    {
     "name": "stdout",
     "output_type": "stream",
     "text": [
      "3\n"
     ]
    }
   ],
   "source": [
    "print(tar_t.size) # will give you number of elements present\n"
   ]
  },
  {
   "cell_type": "code",
   "execution_count": 8,
   "id": "00f6305f",
   "metadata": {},
   "outputs": [
    {
     "name": "stdout",
     "output_type": "stream",
     "text": [
      "(1, 3)\n"
     ]
    }
   ],
   "source": [
    "print(tar_t.shape)"
   ]
  },
  {
   "cell_type": "code",
   "execution_count": 8,
   "id": "7e787eec",
   "metadata": {},
   "outputs": [
    {
     "name": "stdout",
     "output_type": "stream",
     "text": [
      "[[2 7 8 1 9 3]]\n"
     ]
    }
   ],
   "source": [
    "tyu = np.array([2,7,8,1,9,3],ndmin = 2)\n",
    "print(tyu)"
   ]
  },
  {
   "cell_type": "code",
   "execution_count": 6,
   "id": "cd90f5b5",
   "metadata": {},
   "outputs": [
    {
     "ename": "NameError",
     "evalue": "name 'tyu' is not defined",
     "output_type": "error",
     "traceback": [
      "\u001b[1;31m---------------------------------------------------------------------------\u001b[0m",
      "\u001b[1;31mNameError\u001b[0m                                 Traceback (most recent call last)",
      "Input \u001b[1;32mIn [6]\u001b[0m, in \u001b[0;36m<cell line: 1>\u001b[1;34m()\u001b[0m\n\u001b[1;32m----> 1\u001b[0m \u001b[43mtyu\u001b[49m\u001b[38;5;241m.\u001b[39mshape\n",
      "\u001b[1;31mNameError\u001b[0m: name 'tyu' is not defined"
     ]
    }
   ],
   "source": [
    "tyu.shape"
   ]
  },
  {
   "cell_type": "code",
   "execution_count": null,
   "id": "d752819e",
   "metadata": {},
   "outputs": [],
   "source": [
    "tyu.reshape(3,2)\n"
   ]
  },
  {
   "cell_type": "code",
   "execution_count": null,
   "id": "a690e556",
   "metadata": {},
   "outputs": [],
   "source": [
    "tyu[1,1]"
   ]
  },
  {
   "cell_type": "code",
   "execution_count": null,
   "id": "81354b28",
   "metadata": {},
   "outputs": [],
   "source": [
    "tu.dtype"
   ]
  },
  {
   "cell_type": "code",
   "execution_count": 9,
   "id": "b6bb6b93",
   "metadata": {},
   "outputs": [
    {
     "ename": "SyntaxError",
     "evalue": "closing parenthesis ']' does not match opening parenthesis '(' (553185972.py, line 1)",
     "output_type": "error",
     "traceback": [
      "\u001b[1;36m  Input \u001b[1;32mIn [9]\u001b[1;36m\u001b[0m\n\u001b[1;33m    tyu_yy = np.array([2,7,8,2,9,7],[1,9,3,1,8,5]], dtype = 'int16')\u001b[0m\n\u001b[1;37m                                                 ^\u001b[0m\n\u001b[1;31mSyntaxError\u001b[0m\u001b[1;31m:\u001b[0m closing parenthesis ']' does not match opening parenthesis '('\n"
     ]
    }
   ],
   "source": [
    "tyu_yy = np.array([2,7,8,2,9,7],[1,9,3,1,8,5], dtype = 'int16')\n",
    "print()"
   ]
  },
  {
   "cell_type": "code",
   "execution_count": 10,
   "id": "34e9da55",
   "metadata": {},
   "outputs": [],
   "source": [
    "import numpy as np "
   ]
  },
  {
   "cell_type": "code",
   "execution_count": 11,
   "id": "03da7509",
   "metadata": {},
   "outputs": [
    {
     "name": "stdout",
     "output_type": "stream",
     "text": [
      "[19 10 11 17 11 17]\n"
     ]
    }
   ],
   "source": [
    "np.random.seed(11)\n",
    "f= np.random.randint(10,20,6)\n",
    "\n",
    "#np.random.seed(11)\n",
    "print(f)"
   ]
  },
  {
   "cell_type": "code",
   "execution_count": null,
   "id": "37b5f84c",
   "metadata": {},
   "outputs": [],
   "source": []
  }
 ],
 "metadata": {
  "kernelspec": {
   "display_name": "Python 3 (ipykernel)",
   "language": "python",
   "name": "python3"
  },
  "language_info": {
   "codemirror_mode": {
    "name": "ipython",
    "version": 3
   },
   "file_extension": ".py",
   "mimetype": "text/x-python",
   "name": "python",
   "nbconvert_exporter": "python",
   "pygments_lexer": "ipython3",
   "version": "3.9.12"
  }
 },
 "nbformat": 4,
 "nbformat_minor": 5
}
