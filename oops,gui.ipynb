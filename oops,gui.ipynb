{
 "cells": [
  {
   "cell_type": "markdown",
   "id": "2c265287",
   "metadata": {},
   "source": [
    "# Notes:"
   ]
  },
  {
   "cell_type": "code",
   "execution_count": null,
   "id": "4017a827",
   "metadata": {},
   "outputs": [],
   "source": [
    " class Person:\n",
    "        def name(self):\n",
    "            print(\"name values\")\n",
    "        def address(self):\n",
    "            print(\"address\")\n",
    "                                        "
   ]
  },
  {
   "cell_type": "code",
   "execution_count": 47,
   "id": "7dc84f97",
   "metadata": {},
   "outputs": [],
   "source": [
    "p1 = Person()"
   ]
  },
  {
   "cell_type": "code",
   "execution_count": 48,
   "id": "a291a896",
   "metadata": {},
   "outputs": [
    {
     "name": "stdout",
     "output_type": "stream",
     "text": [
      "name values\n"
     ]
    }
   ],
   "source": [
    "p1.name()"
   ]
  },
  {
   "cell_type": "code",
   "execution_count": 7,
   "id": "359faa43",
   "metadata": {},
   "outputs": [
    {
     "name": "stdout",
     "output_type": "stream",
     "text": [
      "address\n"
     ]
    }
   ],
   "source": [
    "p1.address()"
   ]
  },
  {
   "cell_type": "code",
   "execution_count": 8,
   "id": "49cc1382",
   "metadata": {},
   "outputs": [],
   "source": [
    "a2 = Person()"
   ]
  },
  {
   "cell_type": "code",
   "execution_count": 9,
   "id": "1991a91b",
   "metadata": {},
   "outputs": [
    {
     "name": "stdout",
     "output_type": "stream",
     "text": [
      "name values\n"
     ]
    }
   ],
   "source": [
    "a2.name()"
   ]
  },
  {
   "cell_type": "code",
   "execution_count": 10,
   "id": "52433f15",
   "metadata": {},
   "outputs": [
    {
     "name": "stdout",
     "output_type": "stream",
     "text": [
      "address\n"
     ]
    }
   ],
   "source": [
    "a2.address()"
   ]
  },
  {
   "cell_type": "code",
   "execution_count": 34,
   "id": "c58c3090",
   "metadata": {},
   "outputs": [],
   "source": [
    "class Person3():\n",
    "    def set_name(self,name):\n",
    "        self.name = name\n",
    "    def set_address(self,address):\n",
    "        self.address = address\n",
    "    def show_name(self):\n",
    "        return self.name\n",
    "    def show_address(self):\n",
    "        return self.address\n",
    "    "
   ]
  },
  {
   "cell_type": "code",
   "execution_count": 35,
   "id": "dc555b0f",
   "metadata": {},
   "outputs": [],
   "source": [
    "r1 = Person3()"
   ]
  },
  {
   "cell_type": "code",
   "execution_count": 36,
   "id": "4402f15a",
   "metadata": {},
   "outputs": [],
   "source": [
    "r1.set_name(\"smruti\")"
   ]
  },
  {
   "cell_type": "code",
   "execution_count": 37,
   "id": "1eed42d6",
   "metadata": {},
   "outputs": [
    {
     "data": {
      "text/plain": [
       "'smruti'"
      ]
     },
     "execution_count": 37,
     "metadata": {},
     "output_type": "execute_result"
    }
   ],
   "source": [
    "r1.show_name()"
   ]
  },
  {
   "cell_type": "code",
   "execution_count": 38,
   "id": "dc5d1314",
   "metadata": {},
   "outputs": [],
   "source": [
    "r1.set_address(\"Ahemedabad\")"
   ]
  },
  {
   "cell_type": "code",
   "execution_count": 39,
   "id": "d87939a0",
   "metadata": {},
   "outputs": [
    {
     "data": {
      "text/plain": [
       "'Ahemedabad'"
      ]
     },
     "execution_count": 39,
     "metadata": {},
     "output_type": "execute_result"
    }
   ],
   "source": [
    "r1.show_address()"
   ]
  },
  {
   "cell_type": "markdown",
   "id": "0e403dc8",
   "metadata": {},
   "source": [
    "# class/objects"
   ]
  },
  {
   "cell_type": "code",
   "execution_count": 43,
   "id": "b0b944a5",
   "metadata": {},
   "outputs": [],
   "source": [
    "class myclass:\n",
    "    x = 5"
   ]
  },
  {
   "cell_type": "code",
   "execution_count": 44,
   "id": "30bb66b6",
   "metadata": {},
   "outputs": [
    {
     "name": "stdout",
     "output_type": "stream",
     "text": [
      "<class '__main__.myclass'>\n"
     ]
    }
   ],
   "source": [
    "print(myclass)"
   ]
  },
  {
   "cell_type": "code",
   "execution_count": 49,
   "id": "5b06565a",
   "metadata": {},
   "outputs": [],
   "source": [
    "p1 = myclass()"
   ]
  },
  {
   "cell_type": "code",
   "execution_count": 52,
   "id": "5db7444e",
   "metadata": {},
   "outputs": [
    {
     "name": "stdout",
     "output_type": "stream",
     "text": [
      "5\n"
     ]
    }
   ],
   "source": [
    "print(p1.x)"
   ]
  },
  {
   "cell_type": "markdown",
   "id": "d289086a",
   "metadata": {},
   "source": [
    "## The __init__() function"
   ]
  },
  {
   "cell_type": "code",
   "execution_count": 67,
   "id": "745c373b",
   "metadata": {},
   "outputs": [
    {
     "name": "stdout",
     "output_type": "stream",
     "text": [
      "john\n",
      "34\n"
     ]
    }
   ],
   "source": [
    "class Person:\n",
    "    def __init__(self,name,age):\n",
    "        self.name = name\n",
    "        self.age = age    \n",
    "        \n",
    "    p1 = Person(\"john\",34)\n",
    "    \n",
    "print(p1.name)\n",
    "print(p1.age)"
   ]
  },
  {
   "cell_type": "code",
   "execution_count": 78,
   "id": "d55e7920",
   "metadata": {},
   "outputs": [
    {
     "name": "stdout",
     "output_type": "stream",
     "text": [
      "Hello , my name is john\n"
     ]
    }
   ],
   "source": [
    "class Person1:\n",
    "    def __init__(self,name,age):\n",
    "        self.name = name\n",
    "        self.age = age\n",
    "        \n",
    "    def myfunc(self):\n",
    "        print(\"Hello , my name is \" + self.name)\n",
    "        \n",
    "    p3 = Person1(\"john\",34)\n",
    "    \n",
    "p3.myfunc()\n",
    "        "
   ]
  },
  {
   "cell_type": "code",
   "execution_count": 98,
   "id": "839d7f8a",
   "metadata": {},
   "outputs": [
    {
     "name": "stdout",
     "output_type": "stream",
     "text": [
      "my name is joseph\n"
     ]
    }
   ],
   "source": [
    "class Person5:\n",
    "    def __init__ (mysillyobject,name,age):\n",
    "        mysillyobject.name = name\n",
    "        mysillyobject.age = age\n",
    "    \n",
    "    def myfunc(abc):\n",
    "        print(\"my name is \" + abc.name)\n",
    "\n",
    "w2 = Person5(\"joseph\",28)\n",
    "\n",
    "w2.age = 26\n",
    "w2.myfunc()\n",
    "del w2.age\n",
    "del w2"
   ]
  },
  {
   "cell_type": "code",
   "execution_count": 99,
   "id": "da7fd804",
   "metadata": {},
   "outputs": [],
   "source": [
    "class Person:\n",
    "    pass"
   ]
  },
  {
   "cell_type": "markdown",
   "id": "a258e073",
   "metadata": {},
   "source": [
    "# 9/8/22 [ for 1 parent and 1 child ]"
   ]
  },
  {
   "cell_type": "code",
   "execution_count": 1,
   "id": "66872bc3",
   "metadata": {},
   "outputs": [],
   "source": [
    "class Student:\n",
    "    def __init__(self,name,address):\n",
    "        self.name = name\n",
    "        self.address = address\n",
    "        \n",
    "    def student_info(self):\n",
    "        print(\"student name is :\", self.name)\n",
    "        print(\"student address is :\", self.address)\n",
    "        print(\"student document\")"
   ]
  },
  {
   "cell_type": "code",
   "execution_count": 3,
   "id": "1a648c80",
   "metadata": {},
   "outputs": [],
   "source": [
    "s1 = Student(\"tops\",\"maninagar\")"
   ]
  },
  {
   "cell_type": "code",
   "execution_count": 4,
   "id": "73e5c837",
   "metadata": {},
   "outputs": [
    {
     "name": "stdout",
     "output_type": "stream",
     "text": [
      "student name is : tops\n",
      "student address is : maninagar\n",
      "student document\n"
     ]
    }
   ],
   "source": [
    "s1.student_info()"
   ]
  },
  {
   "cell_type": "code",
   "execution_count": 19,
   "id": "3dc88394",
   "metadata": {},
   "outputs": [],
   "source": [
    "class Student2(Student):\n",
    "    def __init__(self,name,address,fee,result):\n",
    "        super().__init__(name,address)\n",
    "        self.fee = fee\n",
    "        self.result = result\n",
    "        \n",
    "    def student_data(self):\n",
    "        print(\"student name is :\", self.name)\n",
    "        print(\"student address is :\", self.address)\n",
    "        print(\"student fee structure :\", self.fee)\n",
    "        print(\"student result is :\", self.result)\n",
    "        print(\"data of student2\") "
   ]
  },
  {
   "cell_type": "code",
   "execution_count": 20,
   "id": "d3a05896",
   "metadata": {},
   "outputs": [],
   "source": [
    "s2 = Student2(\"Analytics\",\"tops\",60000,90)"
   ]
  },
  {
   "cell_type": "code",
   "execution_count": 21,
   "id": "7be5f6b7",
   "metadata": {},
   "outputs": [
    {
     "name": "stdout",
     "output_type": "stream",
     "text": [
      "student name is : Analytics\n",
      "student address is : tops\n",
      "student fee structure : 60000\n",
      "student result is : 90\n",
      "data of student2\n"
     ]
    }
   ],
   "source": [
    "s2.student_data()"
   ]
  },
  {
   "cell_type": "markdown",
   "id": "3c921c0b",
   "metadata": {},
   "source": [
    "## [ For 2 parent and 1 student ]"
   ]
  },
  {
   "cell_type": "code",
   "execution_count": 23,
   "id": "7e108a77",
   "metadata": {},
   "outputs": [],
   "source": [
    "class Pare1:\n",
    "    def assign_pare1(self,pare1):\n",
    "        self.pare1 = pare1\n",
    "    def show_pare1(self):\n",
    "        return self.pare1\n",
    "    \n",
    "class Pare2:\n",
    "    def assign_pare2(self,pare2):\n",
    "        self.pare2 = pare2\n",
    "    def show_pare2(self):\n",
    "        return self.pare2\n",
    "    \n",
    "            "
   ]
  },
  {
   "cell_type": "code",
   "execution_count": 33,
   "id": "addd7163",
   "metadata": {},
   "outputs": [],
   "source": [
    "class Child(Pare1,Pare2):\n",
    "    def assign_chil(self,chil):\n",
    "        self.chil = chil\n",
    "    def show_chil(self):\n",
    "        return self.chil\n",
    "    "
   ]
  },
  {
   "cell_type": "code",
   "execution_count": 34,
   "id": "a74cc444",
   "metadata": {},
   "outputs": [],
   "source": [
    "c1 = Child()"
   ]
  },
  {
   "cell_type": "code",
   "execution_count": 35,
   "id": "6d0efefe",
   "metadata": {},
   "outputs": [],
   "source": [
    "c1.assign_pare1(\"hello parent1\") "
   ]
  },
  {
   "cell_type": "code",
   "execution_count": 36,
   "id": "e6d65eda",
   "metadata": {},
   "outputs": [
    {
     "data": {
      "text/plain": [
       "'hello parent1'"
      ]
     },
     "execution_count": 36,
     "metadata": {},
     "output_type": "execute_result"
    }
   ],
   "source": [
    "c1.show_pare1()"
   ]
  },
  {
   "cell_type": "code",
   "execution_count": 39,
   "id": "f7d25338",
   "metadata": {},
   "outputs": [],
   "source": [
    "c1.assign_pare2(\"parent2 is there\") "
   ]
  },
  {
   "cell_type": "code",
   "execution_count": 40,
   "id": "ea9cfdd3",
   "metadata": {},
   "outputs": [
    {
     "data": {
      "text/plain": [
       "'parent2 is there'"
      ]
     },
     "execution_count": 40,
     "metadata": {},
     "output_type": "execute_result"
    }
   ],
   "source": [
    "c1.show_pare2()"
   ]
  },
  {
   "cell_type": "code",
   "execution_count": 41,
   "id": "ddeb95a1",
   "metadata": {},
   "outputs": [],
   "source": [
    "c1.assign_chil(\"child\")"
   ]
  },
  {
   "cell_type": "code",
   "execution_count": null,
   "id": "153a13bd",
   "metadata": {},
   "outputs": [],
   "source": [
    "c1.show_chil()"
   ]
  },
  {
   "cell_type": "code",
   "execution_count": 3,
   "id": "6e12776c",
   "metadata": {},
   "outputs": [],
   "source": [
    "from tkinter import*\n",
    "root = Tk()\n",
    "w = Label(root,width = \"40\",height= \"15\")\n",
    "w.pack()\n",
    "root.mainloop()"
   ]
  },
  {
   "cell_type": "code",
   "execution_count": 2,
   "id": "1f8d483e",
   "metadata": {},
   "outputs": [],
   "source": [
    "import tkinter as tk\n",
    "r = tk.Tk()\n",
    "r.title('Tops Tachnology')\n",
    "button = tk.Button(r,text='submit',width='20',command=r.destroy)\n",
    "button.pack()\n",
    "r.mainloop()"
   ]
  },
  {
   "cell_type": "code",
   "execution_count": null,
   "id": "1f0668c1",
   "metadata": {},
   "outputs": [],
   "source": []
  }
 ],
 "metadata": {
  "kernelspec": {
   "display_name": "Python 3 (ipykernel)",
   "language": "python",
   "name": "python3"
  },
  "language_info": {
   "codemirror_mode": {
    "name": "ipython",
    "version": 3
   },
   "file_extension": ".py",
   "mimetype": "text/x-python",
   "name": "python",
   "nbconvert_exporter": "python",
   "pygments_lexer": "ipython3",
   "version": "3.9.12"
  }
 },
 "nbformat": 4,
 "nbformat_minor": 5
}
