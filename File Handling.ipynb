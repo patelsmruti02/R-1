{
 "cells": [
  {
   "cell_type": "markdown",
   "id": "519967a1",
   "metadata": {},
   "source": [
    "# File Open"
   ]
  },
  {
   "cell_type": "code",
   "execution_count": 6,
   "id": "1f71c058",
   "metadata": {},
   "outputs": [
    {
     "name": "stdout",
     "output_type": "stream",
     "text": [
      "This is Python.\n",
      "Welcome to the python.\n",
      "file handling.\n",
      "creat\n",
      "write\n",
      "read\n",
      "append\n"
     ]
    }
   ],
   "source": [
    "f = open(\"demofile.txt\",\"r\")\n",
    "print(f.read())"
   ]
  },
  {
   "cell_type": "code",
   "execution_count": 8,
   "id": "070dab1e",
   "metadata": {},
   "outputs": [
    {
     "name": "stdout",
     "output_type": "stream",
     "text": [
      "This is\n"
     ]
    }
   ],
   "source": [
    "f = open(\"demofile.txt\",\"r\")\n",
    "print(f.read(7))"
   ]
  },
  {
   "cell_type": "code",
   "execution_count": 9,
   "id": "ba37eaba",
   "metadata": {},
   "outputs": [
    {
     "name": "stdout",
     "output_type": "stream",
     "text": [
      "This is Python.\n",
      "\n"
     ]
    }
   ],
   "source": [
    "f = open(\"demofile.txt\",\"r\")\n",
    "print(f.readline())"
   ]
  },
  {
   "cell_type": "code",
   "execution_count": 10,
   "id": "81d293f8",
   "metadata": {},
   "outputs": [
    {
     "name": "stdout",
     "output_type": "stream",
     "text": [
      "This is Python.\n",
      "\n",
      "Welcome to the python.\n",
      "\n"
     ]
    }
   ],
   "source": [
    "f = open(\"demofile.txt\",\"r\")\n",
    "print(f.readline())\n",
    "print(f.readline())"
   ]
  },
  {
   "cell_type": "code",
   "execution_count": 10,
   "id": "42164a3e",
   "metadata": {},
   "outputs": [
    {
     "name": "stdout",
     "output_type": "stream",
     "text": [
      "This is Python.\n",
      "\n",
      "Welcome to the python.\n",
      "\n",
      "file handling.\n",
      "\n",
      "creat\n",
      "\n",
      "write\n",
      "\n",
      "read\n",
      "\n",
      "append\n",
      "\n",
      "Now the file has more content! Now the file has more content!Now the file has more content!\n"
     ]
    }
   ],
   "source": [
    "f = open(\"demofile.txt\",\"r\")\n",
    "for x in f:\n",
    "    print(x)"
   ]
  },
  {
   "cell_type": "code",
   "execution_count": 2,
   "id": "2a4acbaf",
   "metadata": {},
   "outputs": [
    {
     "name": "stdout",
     "output_type": "stream",
     "text": [
      "This is Python.\n",
      "\n"
     ]
    }
   ],
   "source": [
    "f = open(\"demofile.txt\",\"r\")\n",
    "print(f.readline())\n",
    "f.close()"
   ]
  },
  {
   "cell_type": "code",
   "execution_count": 14,
   "id": "26bcc68c",
   "metadata": {},
   "outputs": [
    {
     "name": "stdout",
     "output_type": "stream",
     "text": [
      "This is Python.\n",
      "Welcome to the python.\n",
      "file handling.\n",
      "creat\n",
      "write\n",
      "read\n",
      "append\n",
      "Now the file has more content! Now the file has more content!Now the file has more content!Now the file has more content!Now the file has more content!Now the file has more content!file handling\n"
     ]
    }
   ],
   "source": [
    "f = open(\"demofile.txt\",\"a\")\n",
    "f.write(\"file handling\")\n",
    "f.close()\n",
    "\n",
    "f = open(\"demofile.txt\",\"r\")\n",
    "print(f.read())"
   ]
  },
  {
   "cell_type": "code",
   "execution_count": 15,
   "id": "efd6baac",
   "metadata": {},
   "outputs": [
    {
     "name": "stdout",
     "output_type": "stream",
     "text": [
      "woops! I have deleted the content!\n"
     ]
    }
   ],
   "source": [
    "f = open(\"demofile2.txt\",\"w\")\n",
    "f.write(\"woops! I have deleted the content!\")\n",
    "f.close()\n",
    "\n",
    "f = open(\"demofile2.txt\",\"r\")\n",
    "print(f.read())"
   ]
  },
  {
   "cell_type": "code",
   "execution_count": 16,
   "id": "3fbab111",
   "metadata": {},
   "outputs": [
    {
     "name": "stdout",
     "output_type": "stream",
     "text": [
      "woops! I have deleted the content!\n"
     ]
    }
   ],
   "source": [
    "f = open(\"demofile.txt\",\"w\")\n",
    "f.write(\"woops! I have deleted the content!\")\n",
    "f.close()\n",
    "\n",
    "f = open(\"demofile.txt\",\"r\")\n",
    "print(f.read())"
   ]
  },
  {
   "cell_type": "code",
   "execution_count": 21,
   "id": "8d26a54b",
   "metadata": {},
   "outputs": [
    {
     "name": "stdout",
     "output_type": "stream",
     "text": [
      "woops! I have deleted the content!appendappend\n"
     ]
    }
   ],
   "source": [
    "f = open(\"demofile2.txt\",\"a\")\n",
    "f.write(\"append\")\n",
    "f.close()\n",
    "\n",
    "f = open(\"demofile2.txt\",\"r\")\n",
    "print(f.read())"
   ]
  },
  {
   "cell_type": "code",
   "execution_count": 3,
   "id": "3f974f90",
   "metadata": {},
   "outputs": [],
   "source": [
    "f = open(\"demofile.txt\",\"x\")"
   ]
  },
  {
   "cell_type": "markdown",
   "id": "cc1d62f7",
   "metadata": {},
   "source": [
    "## SURPRISE TEST"
   ]
  },
  {
   "cell_type": "code",
   "execution_count": 2,
   "id": "20c5b5b0",
   "metadata": {},
   "outputs": [
    {
     "name": "stdout",
     "output_type": "stream",
     "text": [
      "Enter Number : 5\n",
      "Enter second number :8\n",
      "13\n"
     ]
    }
   ],
   "source": [
    "x = int(input(\"Enter Number : \"))\n",
    "y = int(input(\"Enter second number :\"))\n",
    "z = x+y\n",
    "print(z)"
   ]
  },
  {
   "cell_type": "code",
   "execution_count": 9,
   "id": "130c8b65",
   "metadata": {},
   "outputs": [
    {
     "name": "stdout",
     "output_type": "stream",
     "text": [
      "['red', 'green']\n"
     ]
    }
   ],
   "source": [
    "a = [\"red\",\"green\",\"blue\",\"pink\"]\n",
    "print(a[0:2])"
   ]
  },
  {
   "cell_type": "code",
   "execution_count": 21,
   "id": "c295efce",
   "metadata": {},
   "outputs": [
    {
     "name": "stdout",
     "output_type": "stream",
     "text": [
      "WELCOME TO PYTHON\n"
     ]
    }
   ],
   "source": [
    "c = (\"welcome to python\")\n",
    "print(c.upper())"
   ]
  },
  {
   "cell_type": "code",
   "execution_count": 22,
   "id": "f03af2e0",
   "metadata": {},
   "outputs": [
    {
     "name": "stdout",
     "output_type": "stream",
     "text": [
      "welcome to python\n"
     ]
    }
   ],
   "source": [
    "print(c.lower())"
   ]
  },
  {
   "cell_type": "code",
   "execution_count": 23,
   "id": "729cf5ac",
   "metadata": {},
   "outputs": [
    {
     "name": "stdout",
     "output_type": "stream",
     "text": [
      "w\n",
      "e\n",
      "l\n",
      "c\n",
      "o\n",
      "m\n",
      "e\n",
      " \n",
      "t\n",
      "o\n",
      " \n",
      "p\n",
      "y\n",
      "t\n",
      "h\n",
      "o\n",
      "n\n"
     ]
    }
   ],
   "source": [
    "c = (\"welcome to python\")\n",
    "for i in c:\n",
    "    print(i)"
   ]
  },
  {
   "cell_type": "code",
   "execution_count": 14,
   "id": "c5deb327",
   "metadata": {},
   "outputs": [
    {
     "name": "stdout",
     "output_type": "stream",
     "text": [
      "welcome,to,python\n"
     ]
    }
   ],
   "source": [
    "c = (\"welcome to python\")\n",
    "s =c.replace(\" \",\",\")\n",
    "print(s)"
   ]
  },
  {
   "cell_type": "code",
   "execution_count": 42,
   "id": "6617b8dc",
   "metadata": {},
   "outputs": [
    {
     "name": "stdout",
     "output_type": "stream",
     "text": [
      "['welcome', 'to', 'python']\n"
     ]
    }
   ],
   "source": [
    "s = c.split()\n",
    "print(s)"
   ]
  },
  {
   "cell_type": "code",
   "execution_count": 21,
   "id": "b84f2828",
   "metadata": {},
   "outputs": [
    {
     "name": "stdout",
     "output_type": "stream",
     "text": [
      "('welcome ', 'to', ' python')\n"
     ]
    }
   ],
   "source": [
    "k = c.partition(\"to\")\n",
    "print(k)"
   ]
  },
  {
   "cell_type": "code",
   "execution_count": 43,
   "id": "9b2d94fd",
   "metadata": {},
   "outputs": [
    {
     "name": "stdout",
     "output_type": "stream",
     "text": [
      "17\n"
     ]
    }
   ],
   "source": [
    "print(len(c))"
   ]
  },
  {
   "cell_type": "code",
   "execution_count": 9,
   "id": "95dc956a",
   "metadata": {},
   "outputs": [
    {
     "name": "stdout",
     "output_type": "stream",
     "text": [
      "['red', 'green', 'pink']\n"
     ]
    }
   ],
   "source": [
    "r = [\"red\",\"green\",\"blue\",\"pink\"]\n",
    "r.remove(\"blue\")\n",
    "print(r)"
   ]
  },
  {
   "cell_type": "code",
   "execution_count": 10,
   "id": "eeba69f9",
   "metadata": {},
   "outputs": [
    {
     "name": "stdout",
     "output_type": "stream",
     "text": [
      "['red', 'green']\n"
     ]
    }
   ],
   "source": [
    "r.remove(\"pink\")\n",
    "print(r)"
   ]
  },
  {
   "cell_type": "code",
   "execution_count": 62,
   "id": "66865272",
   "metadata": {},
   "outputs": [
    {
     "name": "stdout",
     "output_type": "stream",
     "text": [
      "[3, 5, 6, 4, 7]\n"
     ]
    }
   ],
   "source": [
    "y = [3,5,6,2,4,7]\n",
    "y.pop(3)\n",
    "print(y)"
   ]
  },
  {
   "cell_type": "code",
   "execution_count": null,
   "id": "1d864da9",
   "metadata": {},
   "outputs": [],
   "source": []
  }
 ],
 "metadata": {
  "kernelspec": {
   "display_name": "Python 3 (ipykernel)",
   "language": "python",
   "name": "python3"
  },
  "language_info": {
   "codemirror_mode": {
    "name": "ipython",
    "version": 3
   },
   "file_extension": ".py",
   "mimetype": "text/x-python",
   "name": "python",
   "nbconvert_exporter": "python",
   "pygments_lexer": "ipython3",
   "version": "3.9.12"
  }
 },
 "nbformat": 4,
 "nbformat_minor": 5
}
