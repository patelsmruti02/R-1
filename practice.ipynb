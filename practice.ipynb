{
 "cells": [
  {
   "cell_type": "code",
   "execution_count": 2,
   "id": "af92b6c1",
   "metadata": {},
   "outputs": [
    {
     "name": "stdout",
     "output_type": "stream",
     "text": [
      "tellhitlet\n",
      "hit\n",
      "let\n"
     ]
    }
   ],
   "source": [
    "a,b,c = (\"tell\",\"hit\",\"let\")\n",
    "print(a)\n",
    "print(b)\n",
    "print(c)"
   ]
  },
  {
   "cell_type": "code",
   "execution_count": 13,
   "id": "40695b34",
   "metadata": {},
   "outputs": [
    {
     "name": "stdout",
     "output_type": "stream",
     "text": [
      "python is : fantastic\n"
     ]
    }
   ],
   "source": [
    "x = \"awesome\"\n",
    "\n",
    "def myfun():\n",
    "    global x\n",
    "    x = \"fantastic\"\n",
    "    print(\"python is : \" + x)\n",
    "    \n",
    "myfun()"
   ]
  },
  {
   "cell_type": "code",
   "execution_count": 11,
   "id": "bd57c7b6",
   "metadata": {},
   "outputs": [
    {
     "name": "stdout",
     "output_type": "stream",
     "text": [
      "awesome good\n"
     ]
    }
   ],
   "source": [
    "y = \"good\"\n",
    "print(x,y)"
   ]
  },
  {
   "cell_type": "code",
   "execution_count": 14,
   "id": "5aebd88e",
   "metadata": {},
   "outputs": [
    {
     "name": "stdout",
     "output_type": "stream",
     "text": [
      "<class 'str'>\n"
     ]
    }
   ],
   "source": [
    "x = \"False\"\n",
    "print(type(x))"
   ]
  },
  {
   "cell_type": "code",
   "execution_count": 18,
   "id": "351a5dd8",
   "metadata": {},
   "outputs": [
    {
     "name": "stdout",
     "output_type": "stream",
     "text": [
      "['g', 'o', 'o', 'd']\n"
     ]
    }
   ],
   "source": [
    "xs = (\"good\")\n",
    "(print(list(xs)))"
   ]
  },
  {
   "cell_type": "code",
   "execution_count": 21,
   "id": "f08b79d9",
   "metadata": {},
   "outputs": [
    {
     "name": "stdout",
     "output_type": "stream",
     "text": [
      "45.0\n"
     ]
    }
   ],
   "source": [
    "cs = (\"45\")\n",
    "print(float(cs))"
   ]
  },
  {
   "cell_type": "code",
   "execution_count": 33,
   "id": "707880fc",
   "metadata": {},
   "outputs": [
    {
     "name": "stdout",
     "output_type": "stream",
     "text": [
      "8\n"
     ]
    }
   ],
   "source": [
    "x = 32/4\n",
    "print(int(x))"
   ]
  },
  {
   "cell_type": "code",
   "execution_count": 35,
   "id": "920c4e6d",
   "metadata": {},
   "outputs": [
    {
     "name": "stdout",
     "output_type": "stream",
     "text": [
      "d\n"
     ]
    }
   ],
   "source": [
    "print(xs[3])"
   ]
  },
  {
   "cell_type": "code",
   "execution_count": 49,
   "id": "d43ba860",
   "metadata": {},
   "outputs": [
    {
     "name": "stdout",
     "output_type": "stream",
     "text": [
      "THIS IS PYTHON\n"
     ]
    }
   ],
   "source": [
    "p = \"this is python\"\n",
    "print(p.upper())"
   ]
  },
  {
   "cell_type": "code",
   "execution_count": 42,
   "id": "2b279bde",
   "metadata": {},
   "outputs": [
    {
     "name": "stdout",
     "output_type": "stream",
     "text": [
      "this is python\n"
     ]
    }
   ],
   "source": [
    "print(p.lower())"
   ]
  },
  {
   "cell_type": "code",
   "execution_count": 41,
   "id": "697c04c5",
   "metadata": {},
   "outputs": [
    {
     "name": "stdout",
     "output_type": "stream",
     "text": [
      "this is python\n"
     ]
    }
   ],
   "source": [
    "print(p.strip())"
   ]
  },
  {
   "cell_type": "code",
   "execution_count": 44,
   "id": "fadc5326",
   "metadata": {},
   "outputs": [
    {
     "name": "stdout",
     "output_type": "stream",
     "text": [
      ",,,this,is,python,,\n"
     ]
    }
   ],
   "source": [
    "print(p.replace(\" \",\",\"))"
   ]
  },
  {
   "cell_type": "code",
   "execution_count": 45,
   "id": "31836855",
   "metadata": {},
   "outputs": [
    {
     "name": "stdout",
     "output_type": "stream",
     "text": [
      "['this', 'is', 'python']\n"
     ]
    }
   ],
   "source": [
    "print(p.split())"
   ]
  },
  {
   "cell_type": "code",
   "execution_count": 51,
   "id": "33f64a7c",
   "metadata": {},
   "outputs": [
    {
     "name": "stdout",
     "output_type": "stream",
     "text": [
      "['this is python']\n"
     ]
    }
   ],
   "source": [
    "print(p.split(\",\"))"
   ]
  },
  {
   "cell_type": "code",
   "execution_count": 99,
   "id": "9865868b",
   "metadata": {},
   "outputs": [
    {
     "name": "stdout",
     "output_type": "stream",
     "text": [
      "['he8llo8 h8ey8 hi']\n"
     ]
    }
   ],
   "source": [
    "d = (\"he8llo8 h8ey8 hi\")\n",
    "print(d.split(\",\"))"
   ]
  },
  {
   "cell_type": "code",
   "execution_count": 65,
   "id": "e923c5ea",
   "metadata": {},
   "outputs": [
    {
     "name": "stdout",
     "output_type": "stream",
     "text": [
      "my number 8734987and i am 1721 th 2002\n"
     ]
    }
   ],
   "source": [
    "num=1721\n",
    "year=2002\n",
    "this=8734987\n",
    "t = (\"my number {2}and i am {0} th {1}\")\n",
    "print(t.format(num,year,this))"
   ]
  },
  {
   "cell_type": "code",
   "execution_count": 89,
   "id": "d5e28a21",
   "metadata": {},
   "outputs": [
    {
     "name": "stdout",
     "output_type": "stream",
     "text": [
      "hello hey \r",
      "hi\n"
     ]
    }
   ],
   "source": [
    "dd = (\"hello hey \\rhi\")\n",
    "print(dd)"
   ]
  },
  {
   "cell_type": "code",
   "execution_count": 100,
   "id": "d3bf726c",
   "metadata": {},
   "outputs": [
    {
     "name": "stdout",
     "output_type": "stream",
     "text": [
      "sshe8llo8 h8ey8 hiss\n",
      "16\n",
      "2\n"
     ]
    }
   ],
   "source": [
    "print(d.center(20,\"s\"))\n",
    "print(len(d))\n",
    "print(d.count(\"8\",2,7))"
   ]
  },
  {
   "cell_type": "code",
   "execution_count": 1,
   "id": "798e9308",
   "metadata": {},
   "outputs": [
    {
     "name": "stdout",
     "output_type": "stream",
     "text": [
      "uigu and low\n"
     ]
    }
   ],
   "source": [
    "txt = \"high and low\"\n",
    "maket = txt.maketrans(\"h\",\"u\")\n",
    "\n",
    "print(txt.translate(maket))"
   ]
  },
  {
   "cell_type": "code",
   "execution_count": 11,
   "id": "9f0a47a0",
   "metadata": {},
   "outputs": [
    {
     "name": "stdout",
     "output_type": "stream",
     "text": [
      " this isoooooooooooobanana\n"
     ]
    }
   ],
   "source": [
    "tyt = \" this is\"\n",
    "x = tyt.ljust(20,\"o\")\n",
    "print(x + \"banana\")"
   ]
  },
  {
   "cell_type": "code",
   "execution_count": 2,
   "id": "3e35f4ff",
   "metadata": {},
   "outputs": [
    {
     "name": "stdout",
     "output_type": "stream",
     "text": [
      "[4, 3, 5]\n"
     ]
    }
   ],
   "source": [
    "s = [ 1,4,3,5,2]\n",
    "print(s[-4:-1])"
   ]
  },
  {
   "cell_type": "code",
   "execution_count": 7,
   "id": "79f63215",
   "metadata": {},
   "outputs": [
    {
     "name": "stdout",
     "output_type": "stream",
     "text": [
      "True\n"
     ]
    }
   ],
   "source": [
    "print(1 in s)"
   ]
  },
  {
   "cell_type": "code",
   "execution_count": 1,
   "id": "6105ce18",
   "metadata": {},
   "outputs": [],
   "source": [
    "from tkinter import*\n",
    "root = Tk()\n",
    "w = Label(root,width = \"40\",height= \"15\")\n",
    "w.pack()\n",
    "root.mainloop()"
   ]
  },
  {
   "cell_type": "code",
   "execution_count": 12,
   "id": "2c426ccf",
   "metadata": {
    "scrolled": true
   },
   "outputs": [
    {
     "name": "stdout",
     "output_type": "stream",
     "text": [
      "python : programing\n"
     ]
    }
   ],
   "source": [
    "print(\"python\",\"programing\" ,sep = \" : \")"
   ]
  },
  {
   "cell_type": "code",
   "execution_count": 4,
   "id": "a3c222b6",
   "metadata": {},
   "outputs": [
    {
     "name": "stdout",
     "output_type": "stream",
     "text": [
      "python\n",
      "programing\n"
     ]
    }
   ],
   "source": [
    "print(\"python\")\n",
    "print(\"programing\")"
   ]
  },
  {
   "cell_type": "code",
   "execution_count": null,
   "id": "55d6952b",
   "metadata": {},
   "outputs": [],
   "source": [
    "s = 5\n",
    "g = 3\n",
    "print(s//g)"
   ]
  },
  {
   "cell_type": "code",
   "execution_count": 6,
   "id": "a81c64d5",
   "metadata": {},
   "outputs": [
    {
     "name": "stdout",
     "output_type": "stream",
     "text": [
      "deque(['apple', 'banana', 'mango'])\n"
     ]
    }
   ],
   "source": [
    "from collections import deque\n",
    "l= deque(['apple','banana','mango',])\n",
    "print(l)"
   ]
  },
  {
   "cell_type": "code",
   "execution_count": 16,
   "id": "a1e6b962",
   "metadata": {},
   "outputs": [
    {
     "name": "stdout",
     "output_type": "stream",
     "text": [
      "apple*banana*mango*"
     ]
    }
   ],
   "source": [
    "for x in l:\n",
    "    print(x,end=\"*\")"
   ]
  },
  {
   "cell_type": "code",
   "execution_count": 17,
   "id": "789590e9",
   "metadata": {},
   "outputs": [
    {
     "name": "stdout",
     "output_type": "stream",
     "text": [
      "[0]\n",
      "[0, 1]\n",
      "[0, 1, 4]\n",
      "[0, 1, 4, 9]\n",
      "[0, 1, 4, 9, 16]\n",
      "[0, 1, 4, 9, 16, 25]\n",
      "[0, 1, 4, 9, 16, 25, 36]\n",
      "[0, 1, 4, 9, 16, 25, 36, 49]\n",
      "[0, 1, 4, 9, 16, 25, 36, 49, 64]\n",
      "[0, 1, 4, 9, 16, 25, 36, 49, 64, 81]\n"
     ]
    }
   ],
   "source": [
    "a = []\n",
    "for x in range(10):\n",
    "    a.append(x**2)\n",
    "    print(a)"
   ]
  },
  {
   "cell_type": "code",
   "execution_count": 19,
   "id": "c2266583",
   "metadata": {},
   "outputs": [
    {
     "name": "stdout",
     "output_type": "stream",
     "text": [
      "81\n",
      "0\n"
     ]
    }
   ],
   "source": [
    "print(max(a))\n",
    "print(min(a))"
   ]
  },
  {
   "cell_type": "code",
   "execution_count": 20,
   "id": "49ec8b3e",
   "metadata": {},
   "outputs": [
    {
     "name": "stdout",
     "output_type": "stream",
     "text": [
      "[0, 1, 4, 9, 16, 25, 36, 49, 64, 81, 10, 20, 30, 40]\n"
     ]
    }
   ],
   "source": [
    "b = [10,20,30,40]\n",
    "a.extend(b)\n",
    "print(a)"
   ]
  },
  {
   "cell_type": "code",
   "execution_count": 21,
   "id": "97a04629",
   "metadata": {},
   "outputs": [
    {
     "name": "stdout",
     "output_type": "stream",
     "text": [
      "[3, 0, 1, 4, 9, 16, 25, 36, 49, 64, 81, 10, 20, 30, 40]\n"
     ]
    }
   ],
   "source": [
    "a.insert(0,3)\n",
    "print(a)"
   ]
  },
  {
   "cell_type": "code",
   "execution_count": 24,
   "id": "e4e20e46",
   "metadata": {},
   "outputs": [
    {
     "name": "stdout",
     "output_type": "stream",
     "text": [
      "1\n"
     ]
    }
   ],
   "source": [
    "print(a.count(0))"
   ]
  },
  {
   "cell_type": "code",
   "execution_count": 34,
   "id": "13b4d017",
   "metadata": {},
   "outputs": [
    {
     "name": "stdout",
     "output_type": "stream",
     "text": [
      "\n",
      " $$ $\n",
      " $$ $ $$ $\n",
      " $$ $ $$ $ $$ $\n",
      " $$ $ $$ $ $$ $ $$ $\n",
      " $$ $ $$ $ $$ $ $$ $ $$ $\n",
      " $$ $ $$ $ $$ $ $$ $ $$ $ $$ $\n",
      " $$ $ $$ $ $$ $ $$ $ $$ $ $$ $ $$ $\n",
      " $$ $ $$ $ $$ $ $$ $ $$ $ $$ $ $$ $ $$ $\n",
      " $$ $ $$ $ $$ $ $$ $ $$ $ $$ $ $$ $ $$ $ $$ $\n"
     ]
    }
   ],
   "source": [
    "for i in range(0,10):\n",
    "    print(' $$ $'*i)"
   ]
  },
  {
   "cell_type": "code",
   "execution_count": 35,
   "id": "b476428a",
   "metadata": {},
   "outputs": [
    {
     "ename": "NameError",
     "evalue": "name 'seq' is not defined",
     "output_type": "error",
     "traceback": [
      "\u001b[1;31m---------------------------------------------------------------------------\u001b[0m",
      "\u001b[1;31mNameError\u001b[0m                                 Traceback (most recent call last)",
      "Input \u001b[1;32mIn [35]\u001b[0m, in \u001b[0;36m<cell line: 2>\u001b[1;34m()\u001b[0m\n\u001b[0;32m      1\u001b[0m r \u001b[38;5;241m=\u001b[39m [\u001b[38;5;241m30\u001b[39m,\u001b[38;5;241m90\u001b[39m,\u001b[38;5;241m20\u001b[39m]\n\u001b[1;32m----> 2\u001b[0m \u001b[38;5;28mprint\u001b[39m(\u001b[38;5;28mlist\u001b[39m(\u001b[43mseq\u001b[49m))\n",
      "\u001b[1;31mNameError\u001b[0m: name 'seq' is not defined"
     ]
    }
   ],
   "source": [
    "r = [30,90,20]\n",
    "print(list(seq))"
   ]
  },
  {
   "cell_type": "code",
   "execution_count": 38,
   "id": "4db41163",
   "metadata": {},
   "outputs": [
    {
     "name": "stdout",
     "output_type": "stream",
     "text": [
      "[1, 2, 3, 4, 5]\n",
      "[1, 2, 3, 4, 5, 6]\n",
      "6\n"
     ]
    }
   ],
   "source": [
    "q=[1,2,3,4,5]\n",
    "print(q) \n",
    "q.append(6)\n",
    "print(q)\n",
    "print(q.pop())"
   ]
  },
  {
   "cell_type": "code",
   "execution_count": 42,
   "id": "79292703",
   "metadata": {},
   "outputs": [
    {
     "name": "stdout",
     "output_type": "stream",
     "text": [
      "a$b$c\n"
     ]
    }
   ],
   "source": [
    "tup = ('a','b','c')\n",
    "str = '$'.join(tup)\n",
    "print(str)"
   ]
  },
  {
   "cell_type": "code",
   "execution_count": 15,
   "id": "d2eca503",
   "metadata": {},
   "outputs": [
    {
     "name": "stdout",
     "output_type": "stream",
     "text": [
      "my name is*smruti\n"
     ]
    }
   ],
   "source": [
    "print(\"my name is\",\"smruti\",sep=\"*\")"
   ]
  },
  {
   "cell_type": "code",
   "execution_count": 8,
   "id": "3e572c0b",
   "metadata": {},
   "outputs": [
    {
     "name": "stdout",
     "output_type": "stream",
     "text": [
      "['swift', 'fortuner', 'baleno', 'verna']\n"
     ]
    }
   ],
   "source": [
    "a_n = [\"swift\",\"fortuner\"]\n",
    "p_n = [\"baleno\",\"verna\"]\n",
    "a_n.extend(p_n)\n",
    "print(a_n)"
   ]
  },
  {
   "cell_type": "code",
   "execution_count": 9,
   "id": "41b58c24",
   "metadata": {},
   "outputs": [
    {
     "name": "stdout",
     "output_type": "stream",
     "text": [
      "['verna', 'baleno', 'fortuner', 'swift']\n"
     ]
    }
   ],
   "source": [
    "a_n.reverse()\n",
    "print(a_n)"
   ]
  },
  {
   "cell_type": "code",
   "execution_count": 19,
   "id": "2a9fe4a1",
   "metadata": {},
   "outputs": [
    {
     "name": "stdout",
     "output_type": "stream",
     "text": [
      "[1, 2, 3, 3, 4, 5, 6, 7, 8]\n"
     ]
    }
   ],
   "source": [
    "rt = [3,4,2,7,1,6,5,8,3]\n",
    "rt.sort()\n",
    "\n",
    "print(rt)\n"
   ]
  },
  {
   "cell_type": "code",
   "execution_count": 25,
   "id": "dd20ce7a",
   "metadata": {},
   "outputs": [
    {
     "name": "stdout",
     "output_type": "stream",
     "text": [
      "['van', 'fun']\n"
     ]
    }
   ],
   "source": [
    "v = ['van','fun']\n",
    "print(v)\n"
   ]
  },
  {
   "cell_type": "code",
   "execution_count": 27,
   "id": "f98260d3",
   "metadata": {},
   "outputs": [
    {
     "name": "stdout",
     "output_type": "stream",
     "text": [
      "['fun', 'van']\n"
     ]
    }
   ],
   "source": [
    "v.sort()\n",
    "print(v)"
   ]
  },
  {
   "cell_type": "code",
   "execution_count": 28,
   "id": "078ac3e0",
   "metadata": {},
   "outputs": [
    {
     "name": "stdout",
     "output_type": "stream",
     "text": [
      "['van']\n"
     ]
    }
   ],
   "source": [
    "v.remove('fun')\n",
    "print(v)"
   ]
  },
  {
   "cell_type": "code",
   "execution_count": 8,
   "id": "b5155069",
   "metadata": {},
   "outputs": [
    {
     "name": "stdout",
     "output_type": "stream",
     "text": [
      "{'color': 'red', 'car': 'verna', 'time': 'pm', 'way': 'ringroad'}\n"
     ]
    }
   ],
   "source": [
    "dic = {\"color\" :\"red\",\"car\":\"verna\"}\n",
    "dic1 = {\"time\" : \"pm\", \"way\" : \"ringroad\"}\n",
    "\n",
    "dic.update(dic1)\n",
    "print(dic)"
   ]
  },
  {
   "cell_type": "code",
   "execution_count": 9,
   "id": "0cc7806d",
   "metadata": {},
   "outputs": [
    {
     "name": "stdout",
     "output_type": "stream",
     "text": [
      "ENTER THE NUMBER : 69\n",
      "69 is even number\n"
     ]
    }
   ],
   "source": [
    "age = int(input(\"ENTER THE NUMBER : \"))\n",
    "\n",
    "if age % 2 :\n",
    "    print(\"{} is even number\".format(age))\n",
    "    \n",
    "else :\n",
    "    print(\"{} is even number\".format(age))"
   ]
  },
  {
   "cell_type": "code",
   "execution_count": 15,
   "id": "567cf343",
   "metadata": {},
   "outputs": [
    {
     "name": "stdout",
     "output_type": "stream",
     "text": [
      "THE FRUIT IS :cherry\n",
      "THE FRUIT IS :apple\n",
      "THE FRUIT IS :banana\n"
     ]
    }
   ],
   "source": [
    "y = {\"apple\",\"banana\",\"cherry\"}\n",
    "for x in y :\n",
    "    print(\"THE FRUIT IS :\"+x)"
   ]
  },
  {
   "cell_type": "code",
   "execution_count": 16,
   "id": "12b1aa48",
   "metadata": {},
   "outputs": [
    {
     "name": "stdout",
     "output_type": "stream",
     "text": [
      "p\n",
      "y\n",
      "t\n",
      "h\n",
      "o\n",
      "n\n",
      "p r o g r a m i n g "
     ]
    }
   ],
   "source": [
    "for name in \"python\":\n",
    "    print(name)\n",
    "\n",
    "for name in \"programing\":\n",
    "    print(name,end=\" \")"
   ]
  },
  {
   "cell_type": "code",
   "execution_count": 17,
   "id": "28983b07",
   "metadata": {},
   "outputs": [
    {
     "name": "stdout",
     "output_type": "stream",
     "text": [
      "C\n",
      "C++\n",
      "JAVA\n"
     ]
    }
   ],
   "source": [
    "lang=['C','C++','JAVA']\n",
    "\n",
    "for item in lang:\n",
    "    print(item)"
   ]
  },
  {
   "cell_type": "code",
   "execution_count": 18,
   "id": "fb1b8f35",
   "metadata": {},
   "outputs": [
    {
     "name": "stdout",
     "output_type": "stream",
     "text": [
      "python Advance\n",
      "python Popular\n",
      "Java Advance\n",
      "Java Popular\n"
     ]
    }
   ],
   "source": [
    "lang=[\"python\",\"Java\"]\n",
    "feature=[\"Advance\",\"Popular\"]\n",
    "\n",
    "for a in lang:\n",
    "    for b in feature:\n",
    "        print(a,b)"
   ]
  },
  {
   "cell_type": "code",
   "execution_count": 30,
   "id": "99561dae",
   "metadata": {},
   "outputs": [
    {
     "name": "stdout",
     "output_type": "stream",
     "text": [
      "* * * * * \n",
      "* * * * * \n",
      "* * * * * \n",
      "* * * * * \n",
      "* * * * * \n"
     ]
    }
   ],
   "source": [
    "for a in range(1,6):\n",
    "    for a in range(1,6):\n",
    "    \n",
    "        print(\"*\",end=\" \")\n",
    "    print()\n",
    "    "
   ]
  },
  {
   "cell_type": "code",
   "execution_count": 35,
   "id": "ed0770f2",
   "metadata": {},
   "outputs": [
    {
     "name": "stdout",
     "output_type": "stream",
     "text": [
      "* \n",
      "* * \n",
      "* * * \n",
      "* * * * \n",
      "* * * * * \n"
     ]
    }
   ],
   "source": [
    "for u in range(1,6):\n",
    "    for p in range(u):\n",
    "        print(\"*\",end=\" \")\n",
    "    print()"
   ]
  },
  {
   "cell_type": "code",
   "execution_count": 33,
   "id": "f9e68b8c",
   "metadata": {},
   "outputs": [
    {
     "name": "stdout",
     "output_type": "stream",
     "text": [
      "1 \n",
      "2 2 \n",
      "3 3 3 \n",
      "4 4 4 4 \n",
      "5 5 5 5 5 \n"
     ]
    }
   ],
   "source": [
    "for i in range(1,6):\n",
    "    for j in range(i):\n",
    "        print(i, end=' ')\n",
    "    print()"
   ]
  },
  {
   "cell_type": "code",
   "execution_count": 8,
   "id": "37b32b3d",
   "metadata": {},
   "outputs": [
    {
     "name": "stdout",
     "output_type": "stream",
     "text": [
      "A\n",
      "AB\n",
      "ABC\n",
      "ABCD\n",
      "ABCDE\n",
      "0\n",
      "1\n",
      "2\n",
      "3\n",
      "4\n",
      "5\n"
     ]
    }
   ],
   "source": [
    "for i in range(1, 6):\n",
    "   for j in range(65, 65+i):\n",
    "       a = chr(j)\n",
    "       print(a,end=\"\")\n",
    "   print()\n",
    "    \n",
    "for o in range(6):\n",
    "    print(o)"
   ]
  },
  {
   "cell_type": "code",
   "execution_count": 9,
   "id": "07f0ff25",
   "metadata": {},
   "outputs": [
    {
     "name": "stdout",
     "output_type": "stream",
     "text": [
      "1\n",
      "2\n",
      "2\n",
      "3\n",
      "3\n",
      "3\n",
      "4\n",
      "4\n",
      "4\n",
      "4\n",
      "5\n",
      "5\n",
      "5\n",
      "5\n",
      "5\n"
     ]
    }
   ],
   "source": [
    "for i in range(6):\n",
    "    for j in range(i): \n",
    "\n",
    "        print(i)"
   ]
  },
  {
   "cell_type": "code",
   "execution_count": 16,
   "id": "d681a76d",
   "metadata": {},
   "outputs": [
    {
     "name": "stdout",
     "output_type": "stream",
     "text": [
      "[3, 6, 9, 12, 15, 18, 21, 24, 27, 30]\n"
     ]
    }
   ],
   "source": [
    "cre = list(range(3,31,3))\n",
    "print(cre)"
   ]
  },
  {
   "cell_type": "code",
   "execution_count": 23,
   "id": "f2f84015",
   "metadata": {},
   "outputs": [
    {
     "name": "stdout",
     "output_type": "stream",
     "text": [
      "1\n",
      "2\n",
      "3\n",
      "4\n",
      "5\n"
     ]
    }
   ],
   "source": [
    "i = 1\n",
    "while i < 6 :\n",
    "    print(i)\n",
    "    i += 1\n"
   ]
  },
  {
   "cell_type": "code",
   "execution_count": 1,
   "id": "3e1f0760",
   "metadata": {},
   "outputs": [
    {
     "name": "stdout",
     "output_type": "stream",
     "text": [
      "1\n",
      "2\n",
      "3\n",
      "4\n",
      "5\n"
     ]
    }
   ],
   "source": [
    "i = 1 \n",
    "while i<6:\n",
    "    print(i)\n",
    "    i += 1"
   ]
  },
  {
   "cell_type": "code",
   "execution_count": 14,
   "id": "c76c7bcb",
   "metadata": {},
   "outputs": [
    {
     "name": "stdout",
     "output_type": "stream",
     "text": [
      "1\n",
      "2\n",
      "4\n",
      "5\n",
      "6\n"
     ]
    }
   ],
   "source": [
    "i = 0\n",
    "while i < 6:\n",
    "    i += 1\n",
    "    if i == 3:\n",
    "        continue\n",
    "    print(i)"
   ]
  },
  {
   "cell_type": "code",
   "execution_count": 17,
   "id": "8a4c560b",
   "metadata": {},
   "outputs": [
    {
     "name": "stdout",
     "output_type": "stream",
     "text": [
      "1\n",
      "2\n",
      "3\n"
     ]
    }
   ],
   "source": [
    "for u in range(1,6)\n",
    "    print(u)\n",
    "    if u == 3:\n",
    "        break"
   ]
  },
  {
   "cell_type": "code",
   "execution_count": 19,
   "id": "09b3fc8d",
   "metadata": {},
   "outputs": [
    {
     "name": "stdout",
     "output_type": "stream",
     "text": [
      "the number is : 18\n"
     ]
    }
   ],
   "source": [
    "t = int(input(\"the number is : \"))\n",
    "if t > 15:\n",
    "    pass\n",
    "else:\n",
    "    print(\"Not allow\")"
   ]
  },
  {
   "cell_type": "code",
   "execution_count": 20,
   "id": "d3eca973",
   "metadata": {},
   "outputs": [
    {
     "name": "stdout",
     "output_type": "stream",
     "text": [
      "will st\n",
      "el st\n",
      "mike st\n"
     ]
    }
   ],
   "source": [
    "def myfun(fname):\n",
    "    print(fname,\"st\")\n",
    "\n",
    "myfun(\"will\")\n",
    "myfun(\"el\")\n",
    "myfun(\"mike\")"
   ]
  },
  {
   "cell_type": "code",
   "execution_count": 27,
   "id": "7fd34982",
   "metadata": {},
   "outputs": [
    {
     "name": "stdout",
     "output_type": "stream",
     "text": [
      "shina is this\n"
     ]
    }
   ],
   "source": [
    "def fun(*na):\n",
    "    print(na[2],\"is this\")\n",
    "    \n",
    "fun(\"tina\",\"mina\",\"shina\")"
   ]
  },
  {
   "cell_type": "code",
   "execution_count": 30,
   "id": "058a9a14",
   "metadata": {},
   "outputs": [
    {
     "name": "stdout",
     "output_type": "stream",
     "text": [
      "partner is max\n"
     ]
    }
   ],
   "source": [
    "def ar(lucas,mike,joseph):\n",
    "    print(\"partner is \" + lucas)\n",
    "    \n",
    "ar(lucas=\"max\",mike=\"el\",joseph=\"nency\")"
   ]
  },
  {
   "cell_type": "code",
   "execution_count": 35,
   "id": "582d3d8b",
   "metadata": {},
   "outputs": [
    {
     "name": "stdout",
     "output_type": "stream",
     "text": [
      "he reached to axay\n"
     ]
    }
   ],
   "source": [
    "def th(**he):\n",
    "    print(\"he reached to\",he[\"school\"])\n",
    "    \n",
    "th(home=\"ahmedabad\",hospital=\"genral\",school=\"axay\")"
   ]
  },
  {
   "cell_type": "code",
   "execution_count": 36,
   "id": "f95add4c",
   "metadata": {},
   "outputs": [
    {
     "name": "stdout",
     "output_type": "stream",
     "text": [
      "i am from chin\n",
      "i am from uk\n",
      "i am from india\n",
      "i am from la\n"
     ]
    }
   ],
   "source": [
    "def d(country=\"india\"):\n",
    "    print(\"i am from \"+ country)\n",
    "d(\"chin\")\n",
    "d(\"uk\")\n",
    "d()\n",
    "d(\"bhutan\")"
   ]
  },
  {
   "cell_type": "code",
   "execution_count": 51,
   "id": "92bd8263",
   "metadata": {},
   "outputs": [
    {
     "name": "stdout",
     "output_type": "stream",
     "text": [
      "i am eating ['cherry', 'mango', 'kiwi']\n"
     ]
    }
   ],
   "source": [
    "def f(food):\n",
    "    \n",
    "        print(\"i am eating\",food)\n",
    "    \n",
    "fruits = [\"cherry\",\"mango\",\"kiwi\"]\n",
    "f(fruits)"
   ]
  },
  {
   "cell_type": "code",
   "execution_count": 43,
   "id": "c916104d",
   "metadata": {},
   "outputs": [
    {
     "name": "stdout",
     "output_type": "stream",
     "text": [
      "45\n",
      "70\n",
      "120\n"
     ]
    }
   ],
   "source": [
    "def p(i):\n",
    "    return 5*i\n",
    "print(p(9))\n",
    "print(p(14))\n",
    "print(p(24))"
   ]
  },
  {
   "cell_type": "code",
   "execution_count": 49,
   "id": "0bcf86b2",
   "metadata": {},
   "outputs": [
    {
     "data": {
      "text/plain": [
       "'earth/mars/venus'"
      ]
     },
     "execution_count": 49,
     "metadata": {},
     "output_type": "execute_result"
    }
   ],
   "source": [
    "def concat(*args,sep=\"/\"):\n",
    "    return sep.join(args[0:3])\n",
    "\n",
    "concat(\"earth\",\"mars\",\"venus\")"
   ]
  },
  {
   "cell_type": "code",
   "execution_count": 52,
   "id": "1a478383",
   "metadata": {},
   "outputs": [
    {
     "name": "stdout",
     "output_type": "stream",
     "text": [
      "Enter id : 65\n",
      "Enter your name : rashmi\n",
      "student id is :  65\n",
      "student name is :  -\n"
     ]
    }
   ],
   "source": [
    "def  student(id,name=\"-\"):\n",
    "   print(\"student id is : \",id)\n",
    "   print(\"student name is : \",name)\n",
    "\n",
    "id=int(input(\"Enter id : \"))   \n",
    "name=input(\"Enter your name : \")\n",
    "\n",
    "student(id)"
   ]
  },
  {
   "cell_type": "code",
   "execution_count": 53,
   "id": "e210edda",
   "metadata": {},
   "outputs": [
    {
     "data": {
      "text/plain": [
       "55"
      ]
     },
     "execution_count": 53,
     "metadata": {},
     "output_type": "execute_result"
    }
   ],
   "source": [
    "def sum(a,b):\n",
    "    return a+b\n",
    "\n",
    "sum(45,10)"
   ]
  },
  {
   "cell_type": "code",
   "execution_count": 55,
   "id": "dbdd6053",
   "metadata": {},
   "outputs": [
    {
     "name": "stdout",
     "output_type": "stream",
     "text": [
      "value of a is :64\n",
      "value of a is :67\n"
     ]
    },
    {
     "data": {
      "text/plain": [
       "131"
      ]
     },
     "execution_count": 55,
     "metadata": {},
     "output_type": "execute_result"
    }
   ],
   "source": [
    "a = int(input(\"value of a is :\"))\n",
    "b = int(input(\"value of a is :\"))\n",
    "sum(a,b)"
   ]
  },
  {
   "cell_type": "code",
   "execution_count": 58,
   "id": "87bb5160",
   "metadata": {},
   "outputs": [
    {
     "name": "stdout",
     "output_type": "stream",
     "text": [
      "5\n",
      "85\n",
      "66\n"
     ]
    }
   ],
   "source": [
    "def tuplelist(a,*tup):\n",
    "\n",
    "   for a in tup:\n",
    "       print(a)\n",
    "\n",
    "\n",
    "tuplelist(1,5,85,66)"
   ]
  },
  {
   "cell_type": "code",
   "execution_count": 59,
   "id": "12ae6df8",
   "metadata": {},
   "outputs": [
    {
     "name": "stdout",
     "output_type": "stream",
     "text": [
      "name Anjali\n",
      "marks 99\n"
     ]
    }
   ],
   "source": [
    "def student(**dict):\n",
    "\n",
    "   for key,value in dict.items():\n",
    "       print(key,value)\n",
    "\n",
    "student(name=\"Anjali\",marks=99)"
   ]
  },
  {
   "cell_type": "code",
   "execution_count": 63,
   "id": "c298032b",
   "metadata": {},
   "outputs": [
    {
     "name": "stdout",
     "output_type": "stream",
     "text": [
      "22\n",
      "36\n"
     ]
    }
   ],
   "source": [
    "def myfu(n):\n",
    "    return lambda a: a*n\n",
    "\n",
    "mydubler = myfu(2)\n",
    "mytripler = myfu(3)\n",
    "\n",
    "print(mydubler(11))\n",
    "print(mytripler(12))"
   ]
  },
  {
   "cell_type": "code",
   "execution_count": 64,
   "id": "77338df3",
   "metadata": {},
   "outputs": [
    {
     "name": "stdout",
     "output_type": "stream",
     "text": [
      "1st  Python\n",
      "2nd  Python Language\n",
      "3rd  Python Language\n"
     ]
    }
   ],
   "source": [
    "def myfun():\n",
    "       global name\n",
    "       print(\"1st \",name)\n",
    "       name=\"Python Language\"\n",
    "       print(\"2nd \",name)\n",
    "\n",
    "name=\"Python\"\n",
    "\n",
    "myfun()\n",
    "\n",
    "print(\"3rd \",name)"
   ]
  },
  {
   "cell_type": "code",
   "execution_count": 11,
   "id": "c991e690",
   "metadata": {},
   "outputs": [],
   "source": [
    "f = open(\"MF.txt\",\"a\")\n",
    "f.write(\" i am adding more content \\nusing append \\nusing append\\nusing append\")\n",
    "f.close()"
   ]
  },
  {
   "cell_type": "code",
   "execution_count": 20,
   "id": "999fd0f5",
   "metadata": {},
   "outputs": [
    {
     "name": "stdout",
     "output_type": "stream",
     "text": [
      " i am adding more content  i am adding more content \n",
      "using append \n",
      "using append\n",
      "using append\n",
      "95\n",
      "3\n"
     ]
    }
   ],
   "source": [
    "f = open(\"MF.txt\",\"r\")\n",
    "print(f.read())\n",
    "print(f.tell())\n",
    "print(f.seek(3))\n",
    "f.close()"
   ]
  },
  {
   "cell_type": "code",
   "execution_count": 9,
   "id": "94b24740",
   "metadata": {},
   "outputs": [],
   "source": [
    "f = open(\"MF.txt\",\"w\")\n",
    "f.write(\" i am adding more content \")\n",
    "f.close()"
   ]
  },
  {
   "cell_type": "code",
   "execution_count": 34,
   "id": "bb1c773b",
   "metadata": {},
   "outputs": [
    {
     "name": "stdout",
     "output_type": "stream",
     "text": [
      " i am adding more content \n",
      "\n",
      " ffkd;;;jflkJFLK\n",
      "\n",
      " KDSJFHLKDJFAFLKAF\n",
      "\n",
      " SKDFKLJDKJ;D\n",
      "\n",
      " DLSFLMVM,ZXMCVKL\n"
     ]
    }
   ],
   "source": [
    "f = open(\"MF.txt\",\"r\")\n",
    "for x in f:\n",
    "    print(x)\n",
    "f.close()"
   ]
  },
  {
   "cell_type": "code",
   "execution_count": 42,
   "id": "3c4ad233",
   "metadata": {},
   "outputs": [],
   "source": [
    "f.close()"
   ]
  },
  {
   "cell_type": "code",
   "execution_count": 1,
   "id": "871ea4eb",
   "metadata": {},
   "outputs": [],
   "source": [
    "import os \n",
    "os.remove(\"MF.txt\")"
   ]
  },
  {
   "cell_type": "code",
   "execution_count": 8,
   "id": "a28755c2",
   "metadata": {},
   "outputs": [
    {
     "name": "stdout",
     "output_type": "stream",
     "text": [
      "The file does not exist\n"
     ]
    }
   ],
   "source": [
    "import os\n",
    "if os.path.exists(\"MF.txt\"):\n",
    "  os.remove(\"MF.txt\")\n",
    "else:\n",
    "  print(\"The file does not exist\")"
   ]
  },
  {
   "cell_type": "code",
   "execution_count": 21,
   "id": "910a7fdb",
   "metadata": {},
   "outputs": [
    {
     "name": "stdout",
     "output_type": "stream",
     "text": [
      "Hello\n",
      "\n",
      "7\n",
      "Welcome to file management program\n"
     ]
    }
   ],
   "source": [
    "file = open(\"test.txt\",\"w\")\n",
    "file.write(\"Hello\\n\")\n",
    "file.write(\"Welcome to file management program\")\n",
    "file.close\n",
    "file = open(\"test.txt\",\"r\")\n",
    "str=file.readline()\n",
    "print(str)\n",
    "a=file.tell()\n",
    "print(a)\n",
    "str=file.read()\n",
    "print(str)"
   ]
  },
  {
   "cell_type": "code",
   "execution_count": 2,
   "id": "93403966",
   "metadata": {},
   "outputs": [
    {
     "name": "stdout",
     "output_type": "stream",
     "text": [
      "variable does not exist\n",
      "the try and except is finished\n"
     ]
    }
   ],
   "source": [
    "try:\n",
    "    print(x)\n",
    "except:\n",
    "    print(\"variable does not exist\")\n",
    "finally:\n",
    "    print(\"the try and except is finished\")\n",
    "    "
   ]
  },
  {
   "cell_type": "code",
   "execution_count": 9,
   "id": "4bd6fbe9",
   "metadata": {},
   "outputs": [
    {
     "ename": "Exception",
     "evalue": " no numbers below zero",
     "output_type": "error",
     "traceback": [
      "\u001b[1;31m---------------------------------------------------------------------------\u001b[0m",
      "\u001b[1;31mException\u001b[0m                                 Traceback (most recent call last)",
      "Input \u001b[1;32mIn [9]\u001b[0m, in \u001b[0;36m<cell line: 3>\u001b[1;34m()\u001b[0m\n\u001b[0;32m      1\u001b[0m x \u001b[38;5;241m=\u001b[39m \u001b[38;5;241m-\u001b[39m\u001b[38;5;241m1\u001b[39m\n\u001b[0;32m      3\u001b[0m \u001b[38;5;28;01mif\u001b[39;00m x\u001b[38;5;241m<\u001b[39m\u001b[38;5;241m0\u001b[39m:\n\u001b[1;32m----> 4\u001b[0m     \u001b[38;5;28;01mraise\u001b[39;00m \u001b[38;5;167;01mException\u001b[39;00m(\u001b[38;5;124m\"\u001b[39m\u001b[38;5;124m no numbers below zero\u001b[39m\u001b[38;5;124m\"\u001b[39m)\n",
      "\u001b[1;31mException\u001b[0m:  no numbers below zero"
     ]
    }
   ],
   "source": [
    "x = -1\n",
    "\n",
    "if x<0:\n",
    "    raise Exception(\" no numbers below zero\")"
   ]
  },
  {
   "cell_type": "code",
   "execution_count": 7,
   "id": "b5133443",
   "metadata": {},
   "outputs": [
    {
     "ename": "TypeError",
     "evalue": "only integers allowed",
     "output_type": "error",
     "traceback": [
      "\u001b[1;31m---------------------------------------------------------------------------\u001b[0m",
      "\u001b[1;31mTypeError\u001b[0m                                 Traceback (most recent call last)",
      "Input \u001b[1;32mIn [7]\u001b[0m, in \u001b[0;36m<cell line: 3>\u001b[1;34m()\u001b[0m\n\u001b[0;32m      1\u001b[0m x \u001b[38;5;241m=\u001b[39m(\u001b[38;5;124m\"\u001b[39m\u001b[38;5;124mhello world\u001b[39m\u001b[38;5;124m\"\u001b[39m)\n\u001b[0;32m      3\u001b[0m \u001b[38;5;28;01mif\u001b[39;00m \u001b[38;5;129;01mnot\u001b[39;00m \u001b[38;5;28mtype\u001b[39m(x) \u001b[38;5;129;01mis\u001b[39;00m \u001b[38;5;28mint\u001b[39m:\n\u001b[1;32m----> 4\u001b[0m     \u001b[38;5;28;01mraise\u001b[39;00m \u001b[38;5;167;01mTypeError\u001b[39;00m(\u001b[38;5;124m\"\u001b[39m\u001b[38;5;124monly integers allowed\u001b[39m\u001b[38;5;124m\"\u001b[39m)\n",
      "\u001b[1;31mTypeError\u001b[0m: only integers allowed"
     ]
    }
   ],
   "source": [
    "x =(\"hello world\")\n",
    "\n",
    "if not type(x) is int:\n",
    "    raise TypeError(\"only integers allowed\")"
   ]
  },
  {
   "cell_type": "code",
   "execution_count": null,
   "id": "d9a5ae15",
   "metadata": {},
   "outputs": [],
   "source": []
  }
 ],
 "metadata": {
  "kernelspec": {
   "display_name": "Python 3 (ipykernel)",
   "language": "python",
   "name": "python3"
  },
  "language_info": {
   "codemirror_mode": {
    "name": "ipython",
    "version": 3
   },
   "file_extension": ".py",
   "mimetype": "text/x-python",
   "name": "python",
   "nbconvert_exporter": "python",
   "pygments_lexer": "ipython3",
   "version": "3.9.12"
  }
 },
 "nbformat": 4,
 "nbformat_minor": 5
}
