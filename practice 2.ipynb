{
 "cells": [
  {
   "cell_type": "code",
   "execution_count": 1,
   "id": "eae723bd",
   "metadata": {},
   "outputs": [
    {
     "name": "stdout",
     "output_type": "stream",
     "text": [
      "something went wron when opening the file\n"
     ]
    }
   ],
   "source": [
    "try:\n",
    "    f = open(\"demofile.txt\")\n",
    "    try:\n",
    "        f.write(\"Lorum Ipsum\")\n",
    "    except:\n",
    "        print(\"something went wrong when writing to the file\")\n",
    "    finally:\n",
    "        f.close()\n",
    "except:\n",
    "    print(\"something went wron when opening the file\")"
   ]
  },
  {
   "cell_type": "code",
   "execution_count": 1,
   "id": "f10d354a",
   "metadata": {},
   "outputs": [
    {
     "name": "stdout",
     "output_type": "stream",
     "text": [
      "Enter the number :hdj\n",
      "only integers are available\n",
      "finally called\n",
      "Enter the number :76\n",
      "76\n",
      "finally called\n"
     ]
    }
   ],
   "source": [
    "from builtins import int\n",
    "while True:\n",
    "    try:\n",
    "        n = int(input(\"Enter the number :\"))\n",
    "        print(n)\n",
    "        break\n",
    "    except:\n",
    "        print(\"only integers are available\")\n",
    "    finally:\n",
    "        print(\"finally called\")"
   ]
  },
  {
   "cell_type": "code",
   "execution_count": 5,
   "id": "6db26453",
   "metadata": {},
   "outputs": [
    {
     "name": "stdout",
     "output_type": "stream",
     "text": [
      "a is not difine\n",
      "finally block\n"
     ]
    }
   ],
   "source": [
    "try:\n",
    "    print(a)\n",
    "except NameError:\n",
    "    print(\"a is not difine\")\n",
    "except:\n",
    "    print(\"other problem\")\n",
    "else:\n",
    "    print(\"hello user\")\n",
    "finally:\n",
    "    print(\"finally block\")"
   ]
  },
  {
   "cell_type": "markdown",
   "id": "212a63c9",
   "metadata": {},
   "source": [
    "## oops"
   ]
  },
  {
   "cell_type": "code",
   "execution_count": 8,
   "id": "8ad93812",
   "metadata": {},
   "outputs": [
    {
     "name": "stdout",
     "output_type": "stream",
     "text": [
      "smruti\n",
      "bapunagar\n"
     ]
    }
   ],
   "source": [
    "class person:\n",
    "    def name(self):\n",
    "        print(\"smruti\")\n",
    "    def address(self):\n",
    "        print(\"bapunagar\")\n",
    "\n",
    "p1 = person()\n",
    "\n",
    "p1.name()\n",
    "p1.address()"
   ]
  },
  {
   "cell_type": "code",
   "execution_count": 25,
   "id": "811d4c59",
   "metadata": {},
   "outputs": [],
   "source": [
    "class person1:\n",
    "    def set_name(self,name):\n",
    "        self.name = name\n",
    "    def set_address(self,address):\n",
    "        self.address = address\n",
    "    def show_name(self):\n",
    "        return self.name\n",
    "    def show_address(self):\n",
    "        return self.address"
   ]
  },
  {
   "cell_type": "code",
   "execution_count": 26,
   "id": "b3599474",
   "metadata": {},
   "outputs": [
    {
     "data": {
      "text/plain": [
       "'robert'"
      ]
     },
     "execution_count": 26,
     "metadata": {},
     "output_type": "execute_result"
    }
   ],
   "source": [
    "q= person1()\n",
    "\n",
    "q.set_name(\"robert\")\n",
    "\n",
    "q.show_name()\n"
   ]
  },
  {
   "cell_type": "code",
   "execution_count": 27,
   "id": "ce18c8f9",
   "metadata": {},
   "outputs": [
    {
     "data": {
      "text/plain": [
       "'uk'"
      ]
     },
     "execution_count": 27,
     "metadata": {},
     "output_type": "execute_result"
    }
   ],
   "source": [
    "q.set_address(\"uk\")\n",
    "\n",
    "q.show_address()"
   ]
  },
  {
   "cell_type": "code",
   "execution_count": 37,
   "id": "a4d7b97c",
   "metadata": {},
   "outputs": [],
   "source": [
    "class place:\n",
    "    def __init__(self,name,address):\n",
    "        self.name = name\n",
    "        self.address = address\n",
    "    def place_info(self):\n",
    "        print(\"place name is :\", self.name)\n",
    "        print(\"place is in :\" , self.address)\n",
    "        "
   ]
  },
  {
   "cell_type": "code",
   "execution_count": 38,
   "id": "0fb22bc8",
   "metadata": {},
   "outputs": [],
   "source": [
    "s = place(\"RF\",\"Ahmedabad\")\n"
   ]
  },
  {
   "cell_type": "code",
   "execution_count": 39,
   "id": "8014a8f0",
   "metadata": {},
   "outputs": [
    {
     "name": "stdout",
     "output_type": "stream",
     "text": [
      "place name is : RF\n",
      "place is in : Ahmedabad\n"
     ]
    }
   ],
   "source": [
    "s.place_info()"
   ]
  },
  {
   "cell_type": "code",
   "execution_count": 40,
   "id": "69d08579",
   "metadata": {},
   "outputs": [],
   "source": [
    "class student2(place):\n",
    "    def __init__(self,name,address,fee,result):\n",
    "        super(). __init__(name,address)\n",
    "        self.fee = fee\n",
    "        self.result = result\n",
    "        \n",
    "    def student_data(self):\n",
    "        print(\"student name is : \" ,self.name)\n",
    "        print(\"student address is : \" ,self.address)\n",
    "        print(\"student fee is : \" ,self.fee)\n",
    "        print(\"student result is : \" ,self.result)"
   ]
  },
  {
   "cell_type": "code",
   "execution_count": 43,
   "id": "24c45b3b",
   "metadata": {
    "scrolled": true
   },
   "outputs": [
    {
     "name": "stdout",
     "output_type": "stream",
     "text": [
      "student name is :  raj\n",
      "student address is :  surat\n",
      "student fee is :  60000\n",
      "student result is :  90\n"
     ]
    }
   ],
   "source": [
    "s = student2(\"raj\",\"surat\",60000,90)       \n",
    "s.student_data()       "
   ]
  },
  {
   "cell_type": "code",
   "execution_count": 54,
   "id": "a6e89691",
   "metadata": {},
   "outputs": [
    {
     "name": "stdout",
     "output_type": "stream",
     "text": [
      "no\n"
     ]
    }
   ],
   "source": [
    "import re\n",
    " \n",
    "var = (\"hello today is wednesday\")\n",
    "y = re.search(\"^hello.*wednesday$\",var)\n",
    "\n",
    "if y :\n",
    "    print(\"yes\")\n",
    "else:\n",
    "    print(\"no\")"
   ]
  },
  {
   "cell_type": "code",
   "execution_count": 55,
   "id": "5dc17f9f",
   "metadata": {},
   "outputs": [
    {
     "name": "stdout",
     "output_type": "stream",
     "text": [
      "3\n",
      "python programing \n",
      "12\n",
      "python python python \n"
     ]
    }
   ],
   "source": [
    "print(1+2)\n",
    "\n",
    "print(\"python \"+\"programing \")\n",
    "\n",
    "print(3 * 4)\n",
    "\n",
    "print(\"python \"*3)"
   ]
  },
  {
   "cell_type": "code",
   "execution_count": 56,
   "id": "d9c1ccc5",
   "metadata": {},
   "outputs": [
    {
     "name": "stdout",
     "output_type": "stream",
     "text": [
      "15\n",
      "PythonProgramming \n"
     ]
    }
   ],
   "source": [
    "class Sample:\n",
    "   def __init__(self,a):\n",
    "       self.a=a\n",
    "   def __add__(self,b):\n",
    "       return self.a+b.a\n",
    "\n",
    "obj1=Sample(5)\n",
    "obj2=Sample(10)\n",
    "obj3=Sample(\"Python\")\n",
    "obj4=Sample(\"Programming \")\n",
    "\n",
    "print(obj1+obj2)\n",
    "print(obj3+obj4)"
   ]
  },
  {
   "cell_type": "code",
   "execution_count": null,
   "id": "d0851181",
   "metadata": {},
   "outputs": [],
   "source": [
    "class Point:\n",
    "   def __init__(self, x,y):\n",
    "       self.x=x\n",
    "       self.y=y\n",
    "\n",
    "   def __str__(self):\n",
    "       return \"({0},{1})\".format(self.x,self.y)\n",
    "\n",
    "   def __add__(self,other):\n",
    "       x=self.x + other.x\n",
    "       y=self.y + other.y\n",
    "       return Point(x,y)\n",
    "\n",
    "p1=Point(10,20)\n",
    "p2=Point(5,4)\n",
    "print(\"Addition of two points \",p1+p2)"
   ]
  },
  {
   "cell_type": "code",
   "execution_count": 5,
   "id": "7c21d976",
   "metadata": {},
   "outputs": [
    {
     "name": "stdout",
     "output_type": "stream",
     "text": [
      "yes it is\n"
     ]
    }
   ],
   "source": [
    "x = \"yes\"\n",
    "y = \"it\"\n",
    "z = \"is\"\n",
    "print(x,y,z)"
   ]
  },
  {
   "cell_type": "code",
   "execution_count": 12,
   "id": "f27f208c",
   "metadata": {},
   "outputs": [
    {
     "name": "stdout",
     "output_type": "stream",
     "text": [
      "python is fantastic\n"
     ]
    }
   ],
   "source": [
    "print(\"python\",\"is\",\"fantastic\",sep=\" \")"
   ]
  },
  {
   "cell_type": "code",
   "execution_count": 5,
   "id": "5b4b3f77",
   "metadata": {},
   "outputs": [
    {
     "name": "stdout",
     "output_type": "stream",
     "text": [
      "7\n"
     ]
    }
   ],
   "source": [
    "import random\n",
    "\n",
    "print(random.randrange(1,10))"
   ]
  },
  {
   "cell_type": "code",
   "execution_count": 7,
   "id": "13c0a5a5",
   "metadata": {},
   "outputs": [
    {
     "name": "stdout",
     "output_type": "stream",
     "text": [
      "0.3509002190784113\n",
      "0.8533384190868103\n",
      "None\n",
      "0.6949573106318065\n"
     ]
    }
   ],
   "source": [
    "import random\n",
    "\n",
    "print(random.random())\n",
    "\n",
    "print(random.random())\n",
    "\n",
    "print(random.setstate(state))\n",
    "\n",
    "print(random.random())"
   ]
  },
  {
   "cell_type": "code",
   "execution_count": 17,
   "id": "03a24c08",
   "metadata": {},
   "outputs": [
    {
     "name": "stdout",
     "output_type": "stream",
     "text": [
      "['hello', 'world!']\n"
     ]
    }
   ],
   "source": [
    "t = \"hello*world!\"\n",
    "print(t.split(\"*\"))"
   ]
  },
  {
   "cell_type": "code",
   "execution_count": 6,
   "id": "58acb66c",
   "metadata": {},
   "outputs": [
    {
     "name": "stdout",
     "output_type": "stream",
     "text": [
      "Hello, world!\n"
     ]
    }
   ],
   "source": [
    "x = \"hello, world!\"\n",
    "print(x.capitalize())"
   ]
  },
  {
   "cell_type": "code",
   "execution_count": 11,
   "id": "ee0bc382",
   "metadata": {},
   "outputs": [
    {
     "name": "stdout",
     "output_type": "stream",
     "text": [
      "***hello, world!****\n"
     ]
    }
   ],
   "source": [
    "print(x.center(20,\"*\"))"
   ]
  },
  {
   "cell_type": "code",
   "execution_count": 12,
   "id": "d2942fca",
   "metadata": {},
   "outputs": [
    {
     "name": "stdout",
     "output_type": "stream",
     "text": [
      "3\n"
     ]
    }
   ],
   "source": [
    "print(x.count(\"l\"))"
   ]
  },
  {
   "cell_type": "code",
   "execution_count": 13,
   "id": "d4f49ebc",
   "metadata": {},
   "outputs": [
    {
     "name": "stdout",
     "output_type": "stream",
     "text": [
      "True\n"
     ]
    }
   ],
   "source": [
    "print(x.endswith(\"d!\"))"
   ]
  },
  {
   "cell_type": "code",
   "execution_count": 26,
   "id": "cfa1013a",
   "metadata": {},
   "outputs": [
    {
     "name": "stdout",
     "output_type": "stream",
     "text": [
      "False\n"
     ]
    }
   ],
   "source": [
    "print(x.isalnum())"
   ]
  },
  {
   "cell_type": "code",
   "execution_count": 25,
   "id": "45f662e0",
   "metadata": {},
   "outputs": [
    {
     "name": "stdout",
     "output_type": "stream",
     "text": [
      "[1, 2, 3, 4, 5, 6]\n"
     ]
    }
   ],
   "source": [
    "num = [1,2,3,2,4,3,5,6,4]\n",
    "\n",
    "def unique_num(num):\n",
    "    \n",
    "    unique_number = []\n",
    "    \n",
    "    for number in num:\n",
    "        if number in unique_number:\n",
    "            continue\n",
    "        else:\n",
    "            unique_number.append(number)\n",
    "    return unique_number\n",
    "\n",
    "print(unique_num(num))"
   ]
  },
  {
   "cell_type": "code",
   "execution_count": 23,
   "id": "9252fe92",
   "metadata": {},
   "outputs": [
    {
     "name": "stdout",
     "output_type": "stream",
     "text": [
      "[20, 30, 40]\n"
     ]
    }
   ],
   "source": [
    "numbers = [20, 20, 30, 30, 40]\n",
    "\n",
    "\n",
    "def get_unique_numbers(numbers):\n",
    "    unique = []\n",
    "\n",
    "    for number in numbers:\n",
    "        if number in unique:\n",
    "            continue\n",
    "        else:\n",
    "            unique.append(number)\n",
    "    return unique\n",
    "\n",
    "\n",
    "print(get_unique_numbers(numbers))\n",
    "# Result: [20, 30, 40]\n"
   ]
  },
  {
   "cell_type": "code",
   "execution_count": 27,
   "id": "20e3ba06",
   "metadata": {},
   "outputs": [
    {
     "name": "stdout",
     "output_type": "stream",
     "text": [
      "True\n"
     ]
    }
   ],
   "source": [
    "t = \"102444\"\n",
    "print(t.isdigit())"
   ]
  },
  {
   "cell_type": "code",
   "execution_count": 28,
   "id": "38b9a55a",
   "metadata": {},
   "outputs": [
    {
     "name": "stdout",
     "output_type": "stream",
     "text": [
      "True\n"
     ]
    }
   ],
   "source": [
    "print(t.isdecimal())"
   ]
  },
  {
   "cell_type": "code",
   "execution_count": 16,
   "id": "85e1373c",
   "metadata": {},
   "outputs": [
    {
     "name": "stdout",
     "output_type": "stream",
     "text": [
      "thiP iP Po good\n"
     ]
    }
   ],
   "source": [
    "txt = \"this is so good\"\n",
    "\n",
    "mytable = txt.maketrans(\"s\", \"P\")\n",
    "\n",
    "print(txt.translate(mytable))\n"
   ]
  },
  {
   "cell_type": "code",
   "execution_count": 17,
   "id": "2c3199e1",
   "metadata": {},
   "outputs": [
    {
     "name": "stdout",
     "output_type": "stream",
     "text": [
      "Heo Pam!\n"
     ]
    }
   ],
   "source": [
    "txt = \"Hello Sam!\"\n",
    "\n",
    "mytable = txt.maketrans(\"S\", \"P\",\"hl\")\n",
    "\n",
    "print(txt.translate(mytable))\n"
   ]
  },
  {
   "cell_type": "code",
   "execution_count": 18,
   "id": "2e9ff712",
   "metadata": {},
   "outputs": [
    {
     "name": "stdout",
     "output_type": "stream",
     "text": [
      "jund onoke colo\n"
     ]
    }
   ],
   "source": [
    "r = \"jhund banake chalo\"\n",
    "u = r.maketrans(\"a\",\"o\",\"hb\")\n",
    "print(r.translate(u))"
   ]
  },
  {
   "cell_type": "code",
   "execution_count": null,
   "id": "0a5340b8",
   "metadata": {},
   "outputs": [],
   "source": []
  }
 ],
 "metadata": {
  "kernelspec": {
   "display_name": "Python 3 (ipykernel)",
   "language": "python",
   "name": "python3"
  },
  "language_info": {
   "codemirror_mode": {
    "name": "ipython",
    "version": 3
   },
   "file_extension": ".py",
   "mimetype": "text/x-python",
   "name": "python",
   "nbconvert_exporter": "python",
   "pygments_lexer": "ipython3",
   "version": "3.9.12"
  }
 },
 "nbformat": 4,
 "nbformat_minor": 5
}
